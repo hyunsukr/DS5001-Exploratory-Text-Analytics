{
 "cells": [
  {
   "cell_type": "markdown",
   "metadata": {},
   "source": [
    "# Module 4: NLP and the Pipeline\n",
    "\n",
    "* DS 5001\n",
    "* Raf Alvarado"
   ]
  },
  {
   "cell_type": "markdown",
   "metadata": {
    "colab_type": "text",
    "id": "Ai-gvPnADykO",
    "toc-hr-collapsed": true
   },
   "source": [
    "# Overview\n",
    "\n",
    "We import a collection of texts and convert to F2. Then we annotate the collection to create an F3-level model."
   ]
  },
  {
   "cell_type": "markdown",
   "metadata": {
    "toc-hr-collapsed": true
   },
   "source": [
    "# Set Up"
   ]
  },
  {
   "cell_type": "markdown",
   "metadata": {},
   "source": [
    "## Configs"
   ]
  },
  {
   "cell_type": "code",
   "execution_count": 1,
   "metadata": {
    "colab": {},
    "colab_type": "code",
    "id": "MwrVU8kZDykb"
   },
   "outputs": [],
   "source": [
    "OHCO = ['book_id', 'chap_num', 'para_num', 'sent_num', 'token_num']\n",
    "epub_dir = 'epubs'"
   ]
  },
  {
   "cell_type": "markdown",
   "metadata": {
    "colab": {},
    "colab_type": "code",
    "id": "MwrVU8kZDykb"
   },
   "source": [
    "## Imports"
   ]
  },
  {
   "cell_type": "code",
   "execution_count": 2,
   "metadata": {
    "colab": {},
    "colab_type": "code",
    "id": "MwrVU8kZDykb"
   },
   "outputs": [],
   "source": [
    "import pandas as pd\n",
    "import numpy as np\n",
    "from glob import glob\n",
    "import re\n",
    "import nltk"
   ]
  },
  {
   "cell_type": "code",
   "execution_count": 3,
   "metadata": {
    "colab": {},
    "colab_type": "code",
    "id": "MwrVU8kZDykb"
   },
   "outputs": [],
   "source": [
    "%matplotlib inline"
   ]
  },
  {
   "cell_type": "markdown",
   "metadata": {
    "colab_type": "text",
    "id": "CAzRbscg1ziu"
   },
   "source": [
    "## Import NLTK and download resources\n",
    "\n",
    "If you need to install NLTK, see the [instructions here](https://www.nltk.org/install.html). You can also install this with Anaconda, like so:\n",
    "\n",
    "`conda install nltk`\n",
    "\n",
    "Once you have installed NLTK, you will need to download resources, which will happen when you run the following cell. If the interactive window opens, you may need to set your NLTK Data Directory, as described in the [instructions here](https://www.nltk.org/data.html). To set the directory, click on the File menu and select Change Download Directory. For central installation, set this to `C:\\nltk_data` (Windows),`/usr/local/share/nltk_data` (Mac), or `/usr/share/nltk_data` (Unix). \n",
    "\n",
    "> If you did not install the data to one of the above central locations, you will need to set the NLTK_DATA environment variable to specify the location of the data. (On a Windows machine, right click on “My Computer” then select Properties > Advanced > Environment Variables > User Variables > New...)"
   ]
  },
  {
   "cell_type": "code",
   "execution_count": 4,
   "metadata": {
    "colab": {
     "base_uri": "https://localhost:8080/",
     "height": 217
    },
    "colab_type": "code",
    "id": "Q4Id4bNP5t4p",
    "outputId": "1be778b1-a6a6-45e5-8773-010e83904be3"
   },
   "outputs": [
    {
     "name": "stderr",
     "output_type": "stream",
     "text": [
      "[nltk_data] Downloading package punkt to /Users/rca2t/nltk_data...\n",
      "[nltk_data]   Package punkt is already up-to-date!\n",
      "[nltk_data] Downloading package averaged_perceptron_tagger to\n",
      "[nltk_data]     /Users/rca2t/nltk_data...\n",
      "[nltk_data]   Package averaged_perceptron_tagger is already up-to-\n",
      "[nltk_data]       date!\n",
      "[nltk_data] Downloading package stopwords to /Users/rca2t/nltk_data...\n",
      "[nltk_data]   Package stopwords is already up-to-date!\n",
      "[nltk_data] Downloading package tagsets to /Users/rca2t/nltk_data...\n",
      "[nltk_data]   Package tagsets is already up-to-date!\n"
     ]
    },
    {
     "data": {
      "text/plain": [
       "True"
      ]
     },
     "execution_count": 4,
     "metadata": {},
     "output_type": "execute_result"
    }
   ],
   "source": [
    "nltk.download('punkt')\n",
    "nltk.download('averaged_perceptron_tagger')\n",
    "nltk.download('stopwords')\n",
    "nltk.download('tagsets')"
   ]
  },
  {
   "cell_type": "markdown",
   "metadata": {},
   "source": [
    "# Acquire\n",
    "\n",
    "Download the novels of Jane Austen and Herman Melville from Project Gutenberg. I actually used a utility I created called PGTK:\n",
    "\n",
    "* https://github.com/ontoligent-design/pgtk\n",
    "\n",
    "They are available in the Resources tree in Collab. Or, you can visit the wiki page for today's lab and find the link under \"Resources.\""
   ]
  },
  {
   "cell_type": "markdown",
   "metadata": {},
   "source": [
    "# Inspect\n",
    "\n",
    "Since Project Gutenberg texts vary widely in their markup, we define our chunking patterns by hand."
   ]
  },
  {
   "cell_type": "code",
   "execution_count": 5,
   "metadata": {},
   "outputs": [],
   "source": [
    "roman = '[IVXLCM]+'\n",
    "caps = \"[A-Z';, -]+\"\n",
    "chap_pats = {\n",
    "    158: {\n",
    "        'start_line': 37,\n",
    "        'end_line': 16261,\n",
    "        'volume': re.compile('^\\s*VOLUME\\s+{}\\s*$'.format(roman)),\n",
    "        'chapter': re.compile('^\\s*CHAPTER\\s+{}\\s*$'.format(roman))\n",
    "    },\n",
    "    946: {\n",
    "        'start_line': 38,\n",
    "        'end_line': 2556,\n",
    "        'chapter': re.compile(\"^\\s*{}\\s*$\".format(roman))\n",
    "    },\n",
    "    1212: {\n",
    "        'start_line': 77,\n",
    "        'end_line': 3432,\n",
    "        'chapter': re.compile(\"^\\s*LETTER .* to .*$\")\n",
    "    },\n",
    "    141: {\\\n",
    "        'start_line': 40,\n",
    "        'end_line': 15376,\n",
    "        'chapter': re.compile(\"^CHAPTER\\s+{}$\".format(roman))\n",
    "    },\n",
    "    121: {\n",
    "        'start_line': 57,\n",
    "        'end_line': 7874,\n",
    "        'chapter': re.compile(\"^CHAPTER\\s+\\d+$\")\n",
    "    },\n",
    "    105: {\n",
    "        'start_line': 48,\n",
    "        'end_line': 8360,\n",
    "        'chapter': re.compile(\"^Chapter\\s+\\d+$\")\n",
    "    },\n",
    "    1342: {\n",
    "        'start_line': 37,\n",
    "        'end_line': 13061,\n",
    "        'chapter': re.compile(\"^Chapter\\s+\\d+$\")\n",
    "    },\n",
    "    161: {\n",
    "        'start_line': 43,\n",
    "        'end_line': 12654,\n",
    "        'chapter': re.compile(\"^CHAPTER\\s+\\d+$\")          \n",
    "    },\n",
    "    15422: {\n",
    "        'start_line': 193,\n",
    "        'end_line': 7501,\n",
    "        'chapter': re.compile(\"^\\s*CHAPTER\\s+{}\\.\".format(roman))\n",
    "    },\n",
    "    13720: {\n",
    "        'start_line': 187,\n",
    "        'end_line': 11470,\n",
    "        'chapter': re.compile(\"^\\s*CHAPTER\\s+{}\\s*$\".format(roman))\n",
    "    },\n",
    "    13721: {\n",
    "        'start_line': 164,\n",
    "        'end_line': 13135,\n",
    "        'chapter': re.compile(\"^\\s*CHAPTER\\s+{}\\s*$\".format(roman))\n",
    "    },\n",
    "    2701: {\n",
    "        'start_line': 52,\n",
    "        'end_line': 21743,\n",
    "        'chapter': re.compile(\"^(ETYMOLOGY|EXTRACTS|CHAPTER)\")\n",
    "    },\n",
    "    4045: {\n",
    "        'start_line': 138,\n",
    "        'end_line': 11655,\n",
    "        'volume': re.compile(\"^\\s*PART\\s+{}\\s*$\".format(roman)),\n",
    "        'chapter': re.compile(\"^\\s*CHAPTER\\s+{}\\.\\s*$\".format(roman))\n",
    "    },\n",
    "    34970: {\n",
    "        'start_line': 234,\n",
    "        'end_line': 16267,\n",
    "        'volume': re.compile(\"^\\s*BOOK\\s+{}\\.\\s*$\".format(roman)),\n",
    "        'chapter': re.compile(\"^\\s*{}\\.\\s*$\".format(roman))\n",
    "    },\n",
    "    8118: {\n",
    "        'start_line': 142,\n",
    "        'end_line': 12300,\n",
    "        'chapter': re.compile(\"^\\s*{}\\. .*$\".format(roman))\n",
    "    },\n",
    "    53861: {\n",
    "        'start_line': 129,\n",
    "        'end_line': 6904,\n",
    "        'chapter': re.compile('^\\s*{}\\s*$'.format(caps))\n",
    "    },\n",
    "    21816: {\n",
    "        'start_line': 309,\n",
    "        'end_line': 11023,\n",
    "        'chapter': re.compile('^CHAPTER\\s+{}\\.?$'.format(roman))\n",
    "    },\n",
    "    15859: {\n",
    "        'start_line': 77,\n",
    "        'end_line': 8619,\n",
    "        'chapter': re.compile('^\\s*{}\\s*$'.format(caps))\n",
    "    },\n",
    "    1900: {\n",
    "        'start_line': 43,\n",
    "        'end_line': 11216,\n",
    "        'chapter': re.compile(\"^CHAPTER\\s+\\w+\\s*$\")\n",
    "    },\n",
    "    10712: {\n",
    "        'start_line': 205,\n",
    "        'end_line': 15487,\n",
    "        'chapter': re.compile(\"^CHAPTER\\s+{}\\.\\s*$\".format(roman))\n",
    "    }\n",
    "}"
   ]
  },
  {
   "cell_type": "markdown",
   "metadata": {},
   "source": [
    "# Register and Chunk"
   ]
  },
  {
   "cell_type": "code",
   "execution_count": 338,
   "metadata": {},
   "outputs": [],
   "source": [
    "def acquire_epubs(epub_list, chap_pats, OHCO=OHCO):\n",
    "    \n",
    "    my_lib = []\n",
    "    my_doc = []\n",
    "\n",
    "    for epub_file in epub_list:\n",
    "        \n",
    "        # Get PG ID from filename\n",
    "        book_id = int(epub_file.split('-')[-1].split('.')[0].replace('pg',''))\n",
    "        print(\"BOOK ID\", book_id)\n",
    "        \n",
    "        # Import file as lines\n",
    "        lines = open(epub_file, 'r', encoding='utf-8-sig').readlines()\n",
    "        df = pd.DataFrame(lines, columns=['line_str'])\n",
    "        df.index.name = 'line_num'\n",
    "        df.line_str = df.line_str.str.strip()\n",
    "        df['book_id'] = book_id\n",
    "        \n",
    "        # FIX CHARACTERS TO IMPROVE TOKENIZATION\n",
    "        df.line_str = df.line_str.str.replace('—', ' — ')\n",
    "        df.line_str = df.line_str.str.replace('-', ' - ')\n",
    "        \n",
    "        # Get book title and put into LIB table -- note problems, though\n",
    "        book_title = re.sub(r\"The Project Gutenberg eBook( of|,) \", \"\", df.loc[0].line_str, flags=re.IGNORECASE)\n",
    "        book_title = re.sub(r\"Project Gutenberg's \", \"\", book_title, flags=re.IGNORECASE)\n",
    "        \n",
    "        # Remove cruft\n",
    "        a = chap_pats[book_id]['start_line'] - 1\n",
    "        b = chap_pats[book_id]['end_line'] + 1\n",
    "        df = df.iloc[a:b]\n",
    "        \n",
    "        # Chunk by chapter\n",
    "        chap_lines = df.line_str.str.match(chap_pats[book_id]['chapter'])\n",
    "        chap_nums = [i+1 for i in range(df.loc[chap_lines].shape[0])]\n",
    "        df.loc[chap_lines, 'chap_num'] = chap_nums\n",
    "        df.chap_num = df.chap_num.ffill()\n",
    "\n",
    "        # Clean up\n",
    "        df = df[~df.chap_num.isna()] # Remove chapter heading lines\n",
    "        df = df.loc[~chap_lines] # Remove everything before Chapter 1\n",
    "        df['chap_num'] = df['chap_num'].astype('int')\n",
    "        \n",
    "        # Group -- Note that we exclude the book level in the OHCO at this point\n",
    "        df = df.groupby(OHCO[1:2]).line_str.apply(lambda x: '\\n'.join(x)).to_frame() # Make big string\n",
    "        \n",
    "        # Split into paragrpahs\n",
    "        df = df['line_str'].str.split(r'\\n\\n+', expand=True).stack().to_frame().rename(columns={0:'para_str'})\n",
    "        df.index.names = OHCO[1:3] # MAY NOT BE NECESSARY UNTIL THE END\n",
    "        df['para_str'] = df['para_str'].str.replace(r'\\n', ' ').str.strip()\n",
    "        df = df[~df['para_str'].str.match(r'^\\s*$')] # Remove empty paragraphs\n",
    "        \n",
    "        # Set index\n",
    "        df['book_id'] = book_id\n",
    "        df = df.reset_index().set_index(OHCO[:3])\n",
    "\n",
    "        # Register\n",
    "        my_lib.append((book_id, book_title, epub_file))\n",
    "        my_doc.append(df)\n",
    "\n",
    "    docs = pd.concat(my_doc)\n",
    "    library = pd.DataFrame(my_lib, columns=['book_id', 'book_title', 'book_file']).set_index('book_id')\n",
    "    print(\"Done.\")\n",
    "    return library, docs"
   ]
  },
  {
   "cell_type": "code",
   "execution_count": 339,
   "metadata": {},
   "outputs": [
    {
     "name": "stdout",
     "output_type": "stream",
     "text": [
      "BOOK ID 158\n",
      "BOOK ID 946\n",
      "BOOK ID 1212\n",
      "BOOK ID 141\n",
      "BOOK ID 121\n",
      "BOOK ID 105\n",
      "BOOK ID 1342\n",
      "BOOK ID 161\n",
      "BOOK ID 15422\n",
      "BOOK ID 13720\n",
      "BOOK ID 13721\n",
      "BOOK ID 2701\n",
      "BOOK ID 4045\n",
      "BOOK ID 34970\n",
      "BOOK ID 8118\n",
      "BOOK ID 53861\n",
      "BOOK ID 21816\n",
      "BOOK ID 15859\n",
      "BOOK ID 1900\n",
      "BOOK ID 10712\n",
      "Done.\n"
     ]
    }
   ],
   "source": [
    "epubs = [epub for epub in sorted(glob(epub_dir+'/*.txt'))]\n",
    "LIB, DOC = acquire_epubs(epubs, chap_pats)"
   ]
  },
  {
   "cell_type": "code",
   "execution_count": 340,
   "metadata": {},
   "outputs": [
    {
     "data": {
      "text/html": [
       "<div>\n",
       "<style scoped>\n",
       "    .dataframe tbody tr th:only-of-type {\n",
       "        vertical-align: middle;\n",
       "    }\n",
       "\n",
       "    .dataframe tbody tr th {\n",
       "        vertical-align: top;\n",
       "    }\n",
       "\n",
       "    .dataframe thead th {\n",
       "        text-align: right;\n",
       "    }\n",
       "</style>\n",
       "<table border=\"1\" class=\"dataframe\">\n",
       "  <thead>\n",
       "    <tr style=\"text-align: right;\">\n",
       "      <th></th>\n",
       "      <th>book_title</th>\n",
       "      <th>book_file</th>\n",
       "    </tr>\n",
       "    <tr>\n",
       "      <th>book_id</th>\n",
       "      <th></th>\n",
       "      <th></th>\n",
       "    </tr>\n",
       "  </thead>\n",
       "  <tbody>\n",
       "    <tr>\n",
       "      <th>158</th>\n",
       "      <td>Emma, by Jane Austen</td>\n",
       "      <td>epubs/AUSTEN_JANE_EMMA-pg158.txt</td>\n",
       "    </tr>\n",
       "    <tr>\n",
       "      <th>946</th>\n",
       "      <td>Lady Susan, by Jane Austen</td>\n",
       "      <td>epubs/AUSTEN_JANE_LADY_SUSAN-pg946.txt</td>\n",
       "    </tr>\n",
       "    <tr>\n",
       "      <th>1212</th>\n",
       "      <td>Love And Freindship And Other Early Works, by ...</td>\n",
       "      <td>epubs/AUSTEN_JANE_LOVE_AND_FREINDSHIP_SIC_-pg1...</td>\n",
       "    </tr>\n",
       "    <tr>\n",
       "      <th>141</th>\n",
       "      <td>Mansfield Park, by Jane Austen</td>\n",
       "      <td>epubs/AUSTEN_JANE_MANSFIELD_PARK-pg141.txt</td>\n",
       "    </tr>\n",
       "    <tr>\n",
       "      <th>121</th>\n",
       "      <td>Northanger Abbey, by Jane Austen</td>\n",
       "      <td>epubs/AUSTEN_JANE_NORTHANGER_ABBEY-pg121.txt</td>\n",
       "    </tr>\n",
       "    <tr>\n",
       "      <th>105</th>\n",
       "      <td>Persuasion, by Jane Austen</td>\n",
       "      <td>epubs/AUSTEN_JANE_PERSUASION-pg105.txt</td>\n",
       "    </tr>\n",
       "    <tr>\n",
       "      <th>1342</th>\n",
       "      <td>Pride and Prejudice, by Jane Austen</td>\n",
       "      <td>epubs/AUSTEN_JANE_PRIDE_AND_PREJUDICE-pg1342.txt</td>\n",
       "    </tr>\n",
       "    <tr>\n",
       "      <th>161</th>\n",
       "      <td>Sense and Sensibility, by Jane Austen</td>\n",
       "      <td>epubs/AUSTEN_JANE_SENSE_AND_SENSIBILITY-pg161.txt</td>\n",
       "    </tr>\n",
       "    <tr>\n",
       "      <th>15422</th>\n",
       "      <td>Israel Potter, by Herman Melville</td>\n",
       "      <td>epubs/MELVILLE_HERMAN_ISRAEL_POTTER_HIS_FIFTY_...</td>\n",
       "    </tr>\n",
       "    <tr>\n",
       "      <th>13720</th>\n",
       "      <td>Mardi: and A Voyage Thither, Vol. I (of 2)</td>\n",
       "      <td>epubs/MELVILLE_HERMAN_MARDI_AND_A_VOYAGE_THITH...</td>\n",
       "    </tr>\n",
       "    <tr>\n",
       "      <th>13721</th>\n",
       "      <td>Mardi: and A Voyage Thither, Vol. II (of 2)</td>\n",
       "      <td>epubs/MELVILLE_HERMAN_MARDI_AND_A_VOYAGE_THITH...</td>\n",
       "    </tr>\n",
       "    <tr>\n",
       "      <th>2701</th>\n",
       "      <td>Moby Dick; or The Whale, by Herman Melville</td>\n",
       "      <td>epubs/MELVILLE_HERMAN_MOBY_DICK_OR_THE_WHALE-p...</td>\n",
       "    </tr>\n",
       "    <tr>\n",
       "      <th>4045</th>\n",
       "      <td>Omoo: Adventures in the South Seas, by Herman ...</td>\n",
       "      <td>epubs/MELVILLE_HERMAN_OMOO_ADVENTURES_IN_THE_S...</td>\n",
       "    </tr>\n",
       "    <tr>\n",
       "      <th>34970</th>\n",
       "      <td>Pierre; or The Ambiguities, by Herman Melville</td>\n",
       "      <td>epubs/MELVILLE_HERMAN_PIERRE_OR_THE_AMBIGUITIE...</td>\n",
       "    </tr>\n",
       "    <tr>\n",
       "      <th>8118</th>\n",
       "      <td>Redburn. His First Voyage, by Herman Melville</td>\n",
       "      <td>epubs/MELVILLE_HERMAN_REDBURN_HIS_FIRST_VOYAGE...</td>\n",
       "    </tr>\n",
       "    <tr>\n",
       "      <th>53861</th>\n",
       "      <td>The Apple - Tree Table and Other Sketches, by</td>\n",
       "      <td>epubs/MELVILLE_HERMAN_THE_APPLE_TREE_TABLE_AND...</td>\n",
       "    </tr>\n",
       "    <tr>\n",
       "      <th>21816</th>\n",
       "      <td>The Confidence - Man, by Herman Melville</td>\n",
       "      <td>epubs/MELVILLE_HERMAN_THE_CONFIDENCE_MAN_HIS_M...</td>\n",
       "    </tr>\n",
       "    <tr>\n",
       "      <th>15859</th>\n",
       "      <td>The Piazza Tales, by Herman Melville</td>\n",
       "      <td>epubs/MELVILLE_HERMAN_THE_PIAZZA_TALES-pg15859...</td>\n",
       "    </tr>\n",
       "    <tr>\n",
       "      <th>1900</th>\n",
       "      <td>Typee, by Herman Melville</td>\n",
       "      <td>epubs/MELVILLE_HERMAN_TYPEE_A_ROMANCE_OF_THE_S...</td>\n",
       "    </tr>\n",
       "    <tr>\n",
       "      <th>10712</th>\n",
       "      <td>White Jacket, by Herman Melville</td>\n",
       "      <td>epubs/MELVILLE_HERMAN_WHITE_JACKET_OR_THE_WORL...</td>\n",
       "    </tr>\n",
       "  </tbody>\n",
       "</table>\n",
       "</div>"
      ],
      "text/plain": [
       "                                                book_title  \\\n",
       "book_id                                                      \n",
       "158                                   Emma, by Jane Austen   \n",
       "946                             Lady Susan, by Jane Austen   \n",
       "1212     Love And Freindship And Other Early Works, by ...   \n",
       "141                         Mansfield Park, by Jane Austen   \n",
       "121                       Northanger Abbey, by Jane Austen   \n",
       "105                             Persuasion, by Jane Austen   \n",
       "1342                   Pride and Prejudice, by Jane Austen   \n",
       "161                  Sense and Sensibility, by Jane Austen   \n",
       "15422                    Israel Potter, by Herman Melville   \n",
       "13720           Mardi: and A Voyage Thither, Vol. I (of 2)   \n",
       "13721          Mardi: and A Voyage Thither, Vol. II (of 2)   \n",
       "2701           Moby Dick; or The Whale, by Herman Melville   \n",
       "4045     Omoo: Adventures in the South Seas, by Herman ...   \n",
       "34970       Pierre; or The Ambiguities, by Herman Melville   \n",
       "8118         Redburn. His First Voyage, by Herman Melville   \n",
       "53861        The Apple - Tree Table and Other Sketches, by   \n",
       "21816             The Confidence - Man, by Herman Melville   \n",
       "15859                 The Piazza Tales, by Herman Melville   \n",
       "1900                             Typee, by Herman Melville   \n",
       "10712                     White Jacket, by Herman Melville   \n",
       "\n",
       "                                                 book_file  \n",
       "book_id                                                     \n",
       "158                       epubs/AUSTEN_JANE_EMMA-pg158.txt  \n",
       "946                 epubs/AUSTEN_JANE_LADY_SUSAN-pg946.txt  \n",
       "1212     epubs/AUSTEN_JANE_LOVE_AND_FREINDSHIP_SIC_-pg1...  \n",
       "141             epubs/AUSTEN_JANE_MANSFIELD_PARK-pg141.txt  \n",
       "121           epubs/AUSTEN_JANE_NORTHANGER_ABBEY-pg121.txt  \n",
       "105                 epubs/AUSTEN_JANE_PERSUASION-pg105.txt  \n",
       "1342      epubs/AUSTEN_JANE_PRIDE_AND_PREJUDICE-pg1342.txt  \n",
       "161      epubs/AUSTEN_JANE_SENSE_AND_SENSIBILITY-pg161.txt  \n",
       "15422    epubs/MELVILLE_HERMAN_ISRAEL_POTTER_HIS_FIFTY_...  \n",
       "13720    epubs/MELVILLE_HERMAN_MARDI_AND_A_VOYAGE_THITH...  \n",
       "13721    epubs/MELVILLE_HERMAN_MARDI_AND_A_VOYAGE_THITH...  \n",
       "2701     epubs/MELVILLE_HERMAN_MOBY_DICK_OR_THE_WHALE-p...  \n",
       "4045     epubs/MELVILLE_HERMAN_OMOO_ADVENTURES_IN_THE_S...  \n",
       "34970    epubs/MELVILLE_HERMAN_PIERRE_OR_THE_AMBIGUITIE...  \n",
       "8118     epubs/MELVILLE_HERMAN_REDBURN_HIS_FIRST_VOYAGE...  \n",
       "53861    epubs/MELVILLE_HERMAN_THE_APPLE_TREE_TABLE_AND...  \n",
       "21816    epubs/MELVILLE_HERMAN_THE_CONFIDENCE_MAN_HIS_M...  \n",
       "15859    epubs/MELVILLE_HERMAN_THE_PIAZZA_TALES-pg15859...  \n",
       "1900     epubs/MELVILLE_HERMAN_TYPEE_A_ROMANCE_OF_THE_S...  \n",
       "10712    epubs/MELVILLE_HERMAN_WHITE_JACKET_OR_THE_WORL...  "
      ]
     },
     "execution_count": 340,
     "metadata": {},
     "output_type": "execute_result"
    }
   ],
   "source": [
    "LIB"
   ]
  },
  {
   "cell_type": "code",
   "execution_count": 341,
   "metadata": {},
   "outputs": [
    {
     "data": {
      "text/html": [
       "<div>\n",
       "<style scoped>\n",
       "    .dataframe tbody tr th:only-of-type {\n",
       "        vertical-align: middle;\n",
       "    }\n",
       "\n",
       "    .dataframe tbody tr th {\n",
       "        vertical-align: top;\n",
       "    }\n",
       "\n",
       "    .dataframe thead th {\n",
       "        text-align: right;\n",
       "    }\n",
       "</style>\n",
       "<table border=\"1\" class=\"dataframe\">\n",
       "  <thead>\n",
       "    <tr style=\"text-align: right;\">\n",
       "      <th></th>\n",
       "      <th></th>\n",
       "      <th></th>\n",
       "      <th>para_str</th>\n",
       "    </tr>\n",
       "    <tr>\n",
       "      <th>book_id</th>\n",
       "      <th>chap_num</th>\n",
       "      <th>para_num</th>\n",
       "      <th></th>\n",
       "    </tr>\n",
       "  </thead>\n",
       "  <tbody>\n",
       "    <tr>\n",
       "      <th>1212</th>\n",
       "      <th>15</th>\n",
       "      <th>7</th>\n",
       "      <td>\"By no means, (said he) for what may be pretty...</td>\n",
       "    </tr>\n",
       "    <tr>\n",
       "      <th>121</th>\n",
       "      <th>16</th>\n",
       "      <th>10</th>\n",
       "      <td>\"Well, I shall see how they behave to me this ...</td>\n",
       "    </tr>\n",
       "    <tr>\n",
       "      <th>10712</th>\n",
       "      <th>89</th>\n",
       "      <th>25</th>\n",
       "      <td>But notwithstanding the iniquities of a man - ...</td>\n",
       "    </tr>\n",
       "    <tr>\n",
       "      <th>2701</th>\n",
       "      <th>92</th>\n",
       "      <th>5</th>\n",
       "      <td>II. A Loose - Fish is fair game for anybody wh...</td>\n",
       "    </tr>\n",
       "    <tr>\n",
       "      <th>10712</th>\n",
       "      <th>16</th>\n",
       "      <th>13</th>\n",
       "      <td>By candidly confessing my feelings on this sub...</td>\n",
       "    </tr>\n",
       "    <tr>\n",
       "      <th>161</th>\n",
       "      <th>13</th>\n",
       "      <th>26</th>\n",
       "      <td>\"I wish it could be so easily settled.  But it...</td>\n",
       "    </tr>\n",
       "    <tr>\n",
       "      <th>2701</th>\n",
       "      <th>35</th>\n",
       "      <th>9</th>\n",
       "      <td>Now the various species of whales need some so...</td>\n",
       "    </tr>\n",
       "    <tr>\n",
       "      <th>141</th>\n",
       "      <th>43</th>\n",
       "      <th>9</th>\n",
       "      <td>Poor Susan was very little better fitted for h...</td>\n",
       "    </tr>\n",
       "    <tr>\n",
       "      <th>105</th>\n",
       "      <th>14</th>\n",
       "      <th>6</th>\n",
       "      <td>Charles laughed again and said, \"Now Mary, you...</td>\n",
       "    </tr>\n",
       "    <tr>\n",
       "      <th>15859</th>\n",
       "      <th>1</th>\n",
       "      <th>212</th>\n",
       "      <td>HOOD'S ISLE AND THE HERMIT OBERLUS.</td>\n",
       "    </tr>\n",
       "  </tbody>\n",
       "</table>\n",
       "</div>"
      ],
      "text/plain": [
       "                                                                    para_str\n",
       "book_id chap_num para_num                                                   \n",
       "1212    15       7         \"By no means, (said he) for what may be pretty...\n",
       "121     16       10        \"Well, I shall see how they behave to me this ...\n",
       "10712   89       25        But notwithstanding the iniquities of a man - ...\n",
       "2701    92       5         II. A Loose - Fish is fair game for anybody wh...\n",
       "10712   16       13        By candidly confessing my feelings on this sub...\n",
       "161     13       26        \"I wish it could be so easily settled.  But it...\n",
       "2701    35       9         Now the various species of whales need some so...\n",
       "141     43       9         Poor Susan was very little better fitted for h...\n",
       "105     14       6         Charles laughed again and said, \"Now Mary, you...\n",
       "15859   1        212                     HOOD'S ISLE AND THE HERMIT OBERLUS."
      ]
     },
     "execution_count": 341,
     "metadata": {},
     "output_type": "execute_result"
    }
   ],
   "source": [
    "DOC.sample(10)"
   ]
  },
  {
   "cell_type": "markdown",
   "metadata": {},
   "source": [
    "# Tokenize and Annotate\n",
    "\n",
    "We use NLTK this time. Note that this process takes some time, mainly because the NLTK functions are not optimized for dataframes.\n",
    "\n",
    "Note that we can choose between tokenizers. NLTK offers a variety of them. Here is a list."
   ]
  },
  {
   "cell_type": "code",
   "execution_count": 314,
   "metadata": {},
   "outputs": [],
   "source": [
    "def tokenize(doc_df, OHCO=OHCO, remove_pos_tuple=False, ws=False):\n",
    "    \n",
    "    # Paragraphs to Sentences\n",
    "    df = doc_df.para_str\\\n",
    "        .apply(lambda x: pd.Series(nltk.sent_tokenize(x)))\\\n",
    "        .stack()\\\n",
    "        .to_frame()\\\n",
    "        .rename(columns={0:'sent_str'})\n",
    "    \n",
    "    # Sentences to Tokens\n",
    "    # Local function to pick tokenizer\n",
    "    def word_tokenize(x):\n",
    "        if ws:\n",
    "            s = pd.Series(nltk.pos_tag(nltk.WhitespaceTokenizer().tokenize(x)))\n",
    "        else:\n",
    "            s = pd.Series(nltk.pos_tag(nltk.word_tokenize(x))) # Discards stuff in between\n",
    "        return s\n",
    "            \n",
    "    df = df.sent_str\\\n",
    "        .apply(word_tokenize)\\\n",
    "        .stack()\\\n",
    "        .to_frame()\\\n",
    "        .rename(columns={0:'pos_tuple'})\n",
    "    \n",
    "    # Grab info from tuple\n",
    "    df['pos'] = df.pos_tuple.apply(lambda x: x[1])\n",
    "    df['token_str'] = df.pos_tuple.apply(lambda x: x[0])\n",
    "    if remove_pos_tuple:\n",
    "        df = df.drop('pos_tuple', 1)\n",
    "    \n",
    "    # Add index\n",
    "    df.index.names = OHCO\n",
    "    \n",
    "    return df"
   ]
  },
  {
   "cell_type": "code",
   "execution_count": 315,
   "metadata": {},
   "outputs": [
    {
     "name": "stdout",
     "output_type": "stream",
     "text": [
      "CPU times: user 2min 50s, sys: 6.04 s, total: 2min 56s\n",
      "Wall time: 2min 57s\n"
     ]
    }
   ],
   "source": [
    "%%time\n",
    "TOKEN = tokenize(DOC, ws=False)"
   ]
  },
  {
   "cell_type": "code",
   "execution_count": 342,
   "metadata": {},
   "outputs": [
    {
     "data": {
      "text/html": [
       "<div>\n",
       "<style scoped>\n",
       "    .dataframe tbody tr th:only-of-type {\n",
       "        vertical-align: middle;\n",
       "    }\n",
       "\n",
       "    .dataframe tbody tr th {\n",
       "        vertical-align: top;\n",
       "    }\n",
       "\n",
       "    .dataframe thead th {\n",
       "        text-align: right;\n",
       "    }\n",
       "</style>\n",
       "<table border=\"1\" class=\"dataframe\">\n",
       "  <thead>\n",
       "    <tr style=\"text-align: right;\">\n",
       "      <th></th>\n",
       "      <th></th>\n",
       "      <th></th>\n",
       "      <th></th>\n",
       "      <th></th>\n",
       "      <th>pos_tuple</th>\n",
       "      <th>pos</th>\n",
       "      <th>token_str</th>\n",
       "      <th>term_str</th>\n",
       "    </tr>\n",
       "    <tr>\n",
       "      <th>book_id</th>\n",
       "      <th>chap_num</th>\n",
       "      <th>para_num</th>\n",
       "      <th>sent_num</th>\n",
       "      <th>token_num</th>\n",
       "      <th></th>\n",
       "      <th></th>\n",
       "      <th></th>\n",
       "      <th></th>\n",
       "    </tr>\n",
       "  </thead>\n",
       "  <tbody>\n",
       "    <tr>\n",
       "      <th rowspan=\"5\" valign=\"top\">158</th>\n",
       "      <th rowspan=\"5\" valign=\"top\">1</th>\n",
       "      <th rowspan=\"5\" valign=\"top\">1</th>\n",
       "      <th rowspan=\"5\" valign=\"top\">0</th>\n",
       "      <th>0</th>\n",
       "      <td>(Emma, NNP)</td>\n",
       "      <td>NNP</td>\n",
       "      <td>Emma</td>\n",
       "      <td>emma</td>\n",
       "    </tr>\n",
       "    <tr>\n",
       "      <th>1</th>\n",
       "      <td>(Woodhouse, NNP)</td>\n",
       "      <td>NNP</td>\n",
       "      <td>Woodhouse</td>\n",
       "      <td>woodhouse</td>\n",
       "    </tr>\n",
       "    <tr>\n",
       "      <th>2</th>\n",
       "      <td>(,, ,)</td>\n",
       "      <td>,</td>\n",
       "      <td>,</td>\n",
       "      <td></td>\n",
       "    </tr>\n",
       "    <tr>\n",
       "      <th>3</th>\n",
       "      <td>(handsome, NN)</td>\n",
       "      <td>NN</td>\n",
       "      <td>handsome</td>\n",
       "      <td>handsome</td>\n",
       "    </tr>\n",
       "    <tr>\n",
       "      <th>4</th>\n",
       "      <td>(,, ,)</td>\n",
       "      <td>,</td>\n",
       "      <td>,</td>\n",
       "      <td></td>\n",
       "    </tr>\n",
       "  </tbody>\n",
       "</table>\n",
       "</div>"
      ],
      "text/plain": [
       "                                                     pos_tuple  pos  \\\n",
       "book_id chap_num para_num sent_num token_num                          \n",
       "158     1        1        0        0               (Emma, NNP)  NNP   \n",
       "                                   1          (Woodhouse, NNP)  NNP   \n",
       "                                   2                    (,, ,)    ,   \n",
       "                                   3            (handsome, NN)   NN   \n",
       "                                   4                    (,, ,)    ,   \n",
       "\n",
       "                                              token_str   term_str  \n",
       "book_id chap_num para_num sent_num token_num                        \n",
       "158     1        1        0        0               Emma       emma  \n",
       "                                   1          Woodhouse  woodhouse  \n",
       "                                   2                  ,             \n",
       "                                   3           handsome   handsome  \n",
       "                                   4                  ,             "
      ]
     },
     "execution_count": 342,
     "metadata": {},
     "output_type": "execute_result"
    }
   ],
   "source": [
    "TOKEN.head()"
   ]
  },
  {
   "cell_type": "code",
   "execution_count": 317,
   "metadata": {},
   "outputs": [
    {
     "data": {
      "text/html": [
       "<div>\n",
       "<style scoped>\n",
       "    .dataframe tbody tr th:only-of-type {\n",
       "        vertical-align: middle;\n",
       "    }\n",
       "\n",
       "    .dataframe tbody tr th {\n",
       "        vertical-align: top;\n",
       "    }\n",
       "\n",
       "    .dataframe thead th {\n",
       "        text-align: right;\n",
       "    }\n",
       "</style>\n",
       "<table border=\"1\" class=\"dataframe\">\n",
       "  <thead>\n",
       "    <tr style=\"text-align: right;\">\n",
       "      <th></th>\n",
       "      <th></th>\n",
       "      <th></th>\n",
       "      <th></th>\n",
       "      <th></th>\n",
       "      <th>pos_tuple</th>\n",
       "      <th>pos</th>\n",
       "      <th>token_str</th>\n",
       "    </tr>\n",
       "    <tr>\n",
       "      <th>book_id</th>\n",
       "      <th>chap_num</th>\n",
       "      <th>para_num</th>\n",
       "      <th>sent_num</th>\n",
       "      <th>token_num</th>\n",
       "      <th></th>\n",
       "      <th></th>\n",
       "      <th></th>\n",
       "    </tr>\n",
       "  </thead>\n",
       "  <tbody>\n",
       "    <tr>\n",
       "      <th rowspan=\"5\" valign=\"top\">158</th>\n",
       "      <th rowspan=\"5\" valign=\"top\">1</th>\n",
       "      <th rowspan=\"2\" valign=\"top\">1</th>\n",
       "      <th rowspan=\"2\" valign=\"top\">0</th>\n",
       "      <th>0</th>\n",
       "      <td>(Emma, NNP)</td>\n",
       "      <td>NNP</td>\n",
       "      <td>Emma</td>\n",
       "    </tr>\n",
       "    <tr>\n",
       "      <th>1</th>\n",
       "      <td>(Woodhouse, NNP)</td>\n",
       "      <td>NNP</td>\n",
       "      <td>Woodhouse</td>\n",
       "    </tr>\n",
       "    <tr>\n",
       "      <th rowspan=\"3\" valign=\"top\">3</th>\n",
       "      <th rowspan=\"3\" valign=\"top\">0</th>\n",
       "      <th>3</th>\n",
       "      <td>(Miss, NNP)</td>\n",
       "      <td>NNP</td>\n",
       "      <td>Miss</td>\n",
       "    </tr>\n",
       "    <tr>\n",
       "      <th>4</th>\n",
       "      <td>(Taylor, NNP)</td>\n",
       "      <td>NNP</td>\n",
       "      <td>Taylor</td>\n",
       "    </tr>\n",
       "    <tr>\n",
       "      <th>7</th>\n",
       "      <td>(Mr., NNP)</td>\n",
       "      <td>NNP</td>\n",
       "      <td>Mr.</td>\n",
       "    </tr>\n",
       "    <tr>\n",
       "      <th>...</th>\n",
       "      <th>...</th>\n",
       "      <th>...</th>\n",
       "      <th>...</th>\n",
       "      <th>...</th>\n",
       "      <td>...</td>\n",
       "      <td>...</td>\n",
       "      <td>...</td>\n",
       "    </tr>\n",
       "    <tr>\n",
       "      <th rowspan=\"5\" valign=\"top\">10712</th>\n",
       "      <th rowspan=\"5\" valign=\"top\">92</th>\n",
       "      <th rowspan=\"3\" valign=\"top\">22</th>\n",
       "      <th rowspan=\"3\" valign=\"top\">7</th>\n",
       "      <th>1</th>\n",
       "      <td>(Lord, NNP)</td>\n",
       "      <td>NNP</td>\n",
       "      <td>Lord</td>\n",
       "    </tr>\n",
       "    <tr>\n",
       "      <th>2</th>\n",
       "      <td>(High, NNP)</td>\n",
       "      <td>NNP</td>\n",
       "      <td>High</td>\n",
       "    </tr>\n",
       "    <tr>\n",
       "      <th>3</th>\n",
       "      <td>(Admiral, NNP)</td>\n",
       "      <td>NNP</td>\n",
       "      <td>Admiral</td>\n",
       "    </tr>\n",
       "    <tr>\n",
       "      <th rowspan=\"2\" valign=\"top\">23</th>\n",
       "      <th rowspan=\"2\" valign=\"top\">0</th>\n",
       "      <th>0</th>\n",
       "      <td>(Whoever, NNP)</td>\n",
       "      <td>NNP</td>\n",
       "      <td>Whoever</td>\n",
       "    </tr>\n",
       "    <tr>\n",
       "      <th>7</th>\n",
       "      <td>(Life, NNP)</td>\n",
       "      <td>NNP</td>\n",
       "      <td>Life</td>\n",
       "    </tr>\n",
       "  </tbody>\n",
       "</table>\n",
       "<p>90404 rows × 3 columns</p>\n",
       "</div>"
      ],
      "text/plain": [
       "                                                     pos_tuple  pos  token_str\n",
       "book_id chap_num para_num sent_num token_num                                  \n",
       "158     1        1        0        0               (Emma, NNP)  NNP       Emma\n",
       "                                   1          (Woodhouse, NNP)  NNP  Woodhouse\n",
       "                 3        0        3               (Miss, NNP)  NNP       Miss\n",
       "                                   4             (Taylor, NNP)  NNP     Taylor\n",
       "                                   7                (Mr., NNP)  NNP        Mr.\n",
       "...                                                        ...  ...        ...\n",
       "10712   92       22       7        1               (Lord, NNP)  NNP       Lord\n",
       "                                   2               (High, NNP)  NNP       High\n",
       "                                   3            (Admiral, NNP)  NNP    Admiral\n",
       "                 23       0        0            (Whoever, NNP)  NNP    Whoever\n",
       "                                   7               (Life, NNP)  NNP       Life\n",
       "\n",
       "[90404 rows x 3 columns]"
      ]
     },
     "execution_count": 317,
     "metadata": {},
     "output_type": "execute_result"
    }
   ],
   "source": [
    "TOKEN[TOKEN.pos.str.match('^NNP')]"
   ]
  },
  {
   "cell_type": "markdown",
   "metadata": {
    "toc-hr-collapsed": true
   },
   "source": [
    "# Reduce\n",
    "\n",
    "Extract a vocabulary from the TOKEN table"
   ]
  },
  {
   "cell_type": "code",
   "execution_count": 318,
   "metadata": {},
   "outputs": [],
   "source": [
    "TOKEN['term_str'] = TOKEN['token_str'].str.lower().str.replace('[\\W_]', '')"
   ]
  },
  {
   "cell_type": "code",
   "execution_count": 344,
   "metadata": {},
   "outputs": [],
   "source": [
    "VOCAB = TOKEN.term_str.value_counts().to_frame()\\\n",
    "    .rename(columns={'index':'term_str', 'term_str':'n'})\\\n",
    "    .sort_index().reset_index().rename(columns={'index':'term_str'})\n",
    "VOCAB.index.name = 'term_id'"
   ]
  },
  {
   "cell_type": "code",
   "execution_count": 345,
   "metadata": {
    "colab": {
     "base_uri": "https://localhost:8080/",
     "height": 226
    },
    "colab_type": "code",
    "id": "3iYsuby6FYYR",
    "outputId": "b29dd1cd-a82a-44be-e21c-aa9b7e1e4933"
   },
   "outputs": [],
   "source": [
    "VOCAB['num'] = VOCAB.term_str.str.match(\"\\d+\").astype('int')"
   ]
  },
  {
   "cell_type": "code",
   "execution_count": 348,
   "metadata": {
    "colab": {
     "base_uri": "https://localhost:8080/",
     "height": 226
    },
    "colab_type": "code",
    "id": "3iYsuby6FYYR",
    "outputId": "b29dd1cd-a82a-44be-e21c-aa9b7e1e4933"
   },
   "outputs": [
    {
     "data": {
      "text/html": [
       "<div>\n",
       "<style scoped>\n",
       "    .dataframe tbody tr th:only-of-type {\n",
       "        vertical-align: middle;\n",
       "    }\n",
       "\n",
       "    .dataframe tbody tr th {\n",
       "        vertical-align: top;\n",
       "    }\n",
       "\n",
       "    .dataframe thead th {\n",
       "        text-align: right;\n",
       "    }\n",
       "</style>\n",
       "<table border=\"1\" class=\"dataframe\">\n",
       "  <thead>\n",
       "    <tr style=\"text-align: right;\">\n",
       "      <th></th>\n",
       "      <th>term_str</th>\n",
       "      <th>n</th>\n",
       "      <th>num</th>\n",
       "    </tr>\n",
       "    <tr>\n",
       "      <th>term_id</th>\n",
       "      <th></th>\n",
       "      <th></th>\n",
       "      <th></th>\n",
       "    </tr>\n",
       "  </thead>\n",
       "  <tbody>\n",
       "    <tr>\n",
       "      <th>0</th>\n",
       "      <td></td>\n",
       "      <td>412917</td>\n",
       "      <td>0</td>\n",
       "    </tr>\n",
       "    <tr>\n",
       "      <th>1</th>\n",
       "      <td>0</td>\n",
       "      <td>2</td>\n",
       "      <td>1</td>\n",
       "    </tr>\n",
       "    <tr>\n",
       "      <th>2</th>\n",
       "      <td>1</td>\n",
       "      <td>18</td>\n",
       "      <td>1</td>\n",
       "    </tr>\n",
       "    <tr>\n",
       "      <th>3</th>\n",
       "      <td>10</td>\n",
       "      <td>6</td>\n",
       "      <td>1</td>\n",
       "    </tr>\n",
       "    <tr>\n",
       "      <th>4</th>\n",
       "      <td>100</td>\n",
       "      <td>2</td>\n",
       "      <td>1</td>\n",
       "    </tr>\n",
       "  </tbody>\n",
       "</table>\n",
       "</div>"
      ],
      "text/plain": [
       "        term_str       n  num\n",
       "term_id                      \n",
       "0                 412917    0\n",
       "1              0       2    1\n",
       "2              1      18    1\n",
       "3             10       6    1\n",
       "4            100       2    1"
      ]
     },
     "execution_count": 348,
     "metadata": {},
     "output_type": "execute_result"
    }
   ],
   "source": [
    "VOCAB.head()"
   ]
  },
  {
   "cell_type": "markdown",
   "metadata": {
    "colab_type": "text",
    "id": "bDSH9L2TXGzH",
    "toc-hr-collapsed": true
   },
   "source": [
    "# Annotate (VOCAB)"
   ]
  },
  {
   "cell_type": "markdown",
   "metadata": {
    "colab_type": "text",
    "id": "US7EfWK_06FS"
   },
   "source": [
    "## Add Stopwords"
   ]
  },
  {
   "cell_type": "markdown",
   "metadata": {
    "colab_type": "text",
    "id": "BDCfFuN80_rX"
   },
   "source": [
    "We use NLTK's built in stopword list for English. Note that we can add and subtract from this list, or just create our own list and keep it in our data model."
   ]
  },
  {
   "cell_type": "code",
   "execution_count": 322,
   "metadata": {
    "colab": {},
    "colab_type": "code",
    "id": "RG-5qYDR1YC2"
   },
   "outputs": [],
   "source": [
    "sw = pd.DataFrame(nltk.corpus.stopwords.words('english'), columns=['term_str'])\n",
    "sw = sw.reset_index().set_index('term_str')\n",
    "sw.columns = ['dummy']\n",
    "sw.dummy = 1"
   ]
  },
  {
   "cell_type": "code",
   "execution_count": 323,
   "metadata": {
    "colab": {
     "base_uri": "https://localhost:8080/",
     "height": 1925
    },
    "colab_type": "code",
    "id": "8vtGY9V82scz",
    "outputId": "e7ef30c7-3a05-4acf-e2cc-9154f589bd91"
   },
   "outputs": [
    {
     "data": {
      "text/html": [
       "<div>\n",
       "<style scoped>\n",
       "    .dataframe tbody tr th:only-of-type {\n",
       "        vertical-align: middle;\n",
       "    }\n",
       "\n",
       "    .dataframe tbody tr th {\n",
       "        vertical-align: top;\n",
       "    }\n",
       "\n",
       "    .dataframe thead th {\n",
       "        text-align: right;\n",
       "    }\n",
       "</style>\n",
       "<table border=\"1\" class=\"dataframe\">\n",
       "  <thead>\n",
       "    <tr style=\"text-align: right;\">\n",
       "      <th></th>\n",
       "      <th>dummy</th>\n",
       "    </tr>\n",
       "    <tr>\n",
       "      <th>term_str</th>\n",
       "      <th></th>\n",
       "    </tr>\n",
       "  </thead>\n",
       "  <tbody>\n",
       "    <tr>\n",
       "      <th>yourself</th>\n",
       "      <td>1</td>\n",
       "    </tr>\n",
       "    <tr>\n",
       "      <th>during</th>\n",
       "      <td>1</td>\n",
       "    </tr>\n",
       "    <tr>\n",
       "      <th>between</th>\n",
       "      <td>1</td>\n",
       "    </tr>\n",
       "    <tr>\n",
       "      <th>few</th>\n",
       "      <td>1</td>\n",
       "    </tr>\n",
       "    <tr>\n",
       "      <th>be</th>\n",
       "      <td>1</td>\n",
       "    </tr>\n",
       "    <tr>\n",
       "      <th>needn</th>\n",
       "      <td>1</td>\n",
       "    </tr>\n",
       "    <tr>\n",
       "      <th>isn't</th>\n",
       "      <td>1</td>\n",
       "    </tr>\n",
       "    <tr>\n",
       "      <th>doesn</th>\n",
       "      <td>1</td>\n",
       "    </tr>\n",
       "    <tr>\n",
       "      <th>she</th>\n",
       "      <td>1</td>\n",
       "    </tr>\n",
       "    <tr>\n",
       "      <th>were</th>\n",
       "      <td>1</td>\n",
       "    </tr>\n",
       "  </tbody>\n",
       "</table>\n",
       "</div>"
      ],
      "text/plain": [
       "          dummy\n",
       "term_str       \n",
       "yourself      1\n",
       "during        1\n",
       "between       1\n",
       "few           1\n",
       "be            1\n",
       "needn         1\n",
       "isn't         1\n",
       "doesn         1\n",
       "she           1\n",
       "were          1"
      ]
     },
     "execution_count": 323,
     "metadata": {},
     "output_type": "execute_result"
    }
   ],
   "source": [
    "sw.sample(10)"
   ]
  },
  {
   "cell_type": "code",
   "execution_count": 324,
   "metadata": {
    "colab": {},
    "colab_type": "code",
    "id": "cVJUOP9l2AS7"
   },
   "outputs": [],
   "source": [
    "VOCAB['stop'] = VOCAB.term_str.map(sw.dummy)\n",
    "VOCAB['stop'] = VOCAB['stop'].fillna(0).astype('int')"
   ]
  },
  {
   "cell_type": "code",
   "execution_count": 325,
   "metadata": {
    "colab": {
     "base_uri": "https://localhost:8080/",
     "height": 375
    },
    "colab_type": "code",
    "id": "QXcA9xyY4JF_",
    "outputId": "340d1dab-1901-4eeb-b9d8-a269eba90dea"
   },
   "outputs": [
    {
     "data": {
      "text/html": [
       "<div>\n",
       "<style scoped>\n",
       "    .dataframe tbody tr th:only-of-type {\n",
       "        vertical-align: middle;\n",
       "    }\n",
       "\n",
       "    .dataframe tbody tr th {\n",
       "        vertical-align: top;\n",
       "    }\n",
       "\n",
       "    .dataframe thead th {\n",
       "        text-align: right;\n",
       "    }\n",
       "</style>\n",
       "<table border=\"1\" class=\"dataframe\">\n",
       "  <thead>\n",
       "    <tr style=\"text-align: right;\">\n",
       "      <th></th>\n",
       "      <th>term_str</th>\n",
       "      <th>n</th>\n",
       "      <th>num</th>\n",
       "      <th>stop</th>\n",
       "    </tr>\n",
       "    <tr>\n",
       "      <th>term_id</th>\n",
       "      <th></th>\n",
       "      <th></th>\n",
       "      <th></th>\n",
       "      <th></th>\n",
       "    </tr>\n",
       "  </thead>\n",
       "  <tbody>\n",
       "    <tr>\n",
       "      <th>30041</th>\n",
       "      <td>same</td>\n",
       "      <td>1468</td>\n",
       "      <td>0</td>\n",
       "      <td>1</td>\n",
       "    </tr>\n",
       "    <tr>\n",
       "      <th>10550</th>\n",
       "      <td>doing</td>\n",
       "      <td>357</td>\n",
       "      <td>0</td>\n",
       "      <td>1</td>\n",
       "    </tr>\n",
       "    <tr>\n",
       "      <th>34795</th>\n",
       "      <td>then</td>\n",
       "      <td>3882</td>\n",
       "      <td>0</td>\n",
       "      <td>1</td>\n",
       "    </tr>\n",
       "    <tr>\n",
       "      <th>16511</th>\n",
       "      <td>hers</td>\n",
       "      <td>132</td>\n",
       "      <td>0</td>\n",
       "      <td>1</td>\n",
       "    </tr>\n",
       "    <tr>\n",
       "      <th>24540</th>\n",
       "      <td>own</td>\n",
       "      <td>2842</td>\n",
       "      <td>0</td>\n",
       "      <td>1</td>\n",
       "    </tr>\n",
       "    <tr>\n",
       "      <th>21004</th>\n",
       "      <td>ma</td>\n",
       "      <td>3</td>\n",
       "      <td>0</td>\n",
       "      <td>1</td>\n",
       "    </tr>\n",
       "    <tr>\n",
       "      <th>38029</th>\n",
       "      <td>very</td>\n",
       "      <td>6292</td>\n",
       "      <td>0</td>\n",
       "      <td>1</td>\n",
       "    </tr>\n",
       "    <tr>\n",
       "      <th>19009</th>\n",
       "      <td>itself</td>\n",
       "      <td>513</td>\n",
       "      <td>0</td>\n",
       "      <td>1</td>\n",
       "    </tr>\n",
       "    <tr>\n",
       "      <th>38907</th>\n",
       "      <td>where</td>\n",
       "      <td>1953</td>\n",
       "      <td>0</td>\n",
       "      <td>1</td>\n",
       "    </tr>\n",
       "    <tr>\n",
       "      <th>35358</th>\n",
       "      <td>too</td>\n",
       "      <td>2228</td>\n",
       "      <td>0</td>\n",
       "      <td>1</td>\n",
       "    </tr>\n",
       "  </tbody>\n",
       "</table>\n",
       "</div>"
      ],
      "text/plain": [
       "        term_str     n  num  stop\n",
       "term_id                          \n",
       "30041       same  1468    0     1\n",
       "10550      doing   357    0     1\n",
       "34795       then  3882    0     1\n",
       "16511       hers   132    0     1\n",
       "24540        own  2842    0     1\n",
       "21004         ma     3    0     1\n",
       "38029       very  6292    0     1\n",
       "19009     itself   513    0     1\n",
       "38907      where  1953    0     1\n",
       "35358        too  2228    0     1"
      ]
     },
     "execution_count": 325,
     "metadata": {},
     "output_type": "execute_result"
    }
   ],
   "source": [
    "VOCAB[VOCAB.stop == 1].sample(10)"
   ]
  },
  {
   "cell_type": "markdown",
   "metadata": {
    "colab_type": "text",
    "id": "bDSH9L2TXGzH"
   },
   "source": [
    "## Add Stems"
   ]
  },
  {
   "cell_type": "code",
   "execution_count": 349,
   "metadata": {
    "colab": {},
    "colab_type": "code",
    "id": "mE_YGklKXSYn"
   },
   "outputs": [],
   "source": [
    "from nltk.stem.porter import PorterStemmer\n",
    "stemmer1 = PorterStemmer()\n",
    "VOCAB['stem_porter'] = VOCAB.term_str.apply(stemmer1.stem)\n",
    "\n",
    "from nltk.stem.snowball import SnowballStemmer\n",
    "stemmer2 = SnowballStemmer(\"english\")\n",
    "VOCAB['stem_snowball'] = VOCAB.term_str.apply(stemmer2.stem)\n",
    "\n",
    "from nltk.stem.lancaster import LancasterStemmer\n",
    "stemmer3 = LancasterStemmer()\n",
    "VOCAB['stem_lancaster'] = VOCAB.term_str.apply(stemmer3.stem)"
   ]
  },
  {
   "cell_type": "code",
   "execution_count": 350,
   "metadata": {
    "colab": {
     "base_uri": "https://localhost:8080/",
     "height": 375
    },
    "colab_type": "code",
    "id": "dY__Bq0yXqbj",
    "outputId": "eddcdafe-e378-4f7b-ac6b-1fc41ef64fbb"
   },
   "outputs": [
    {
     "data": {
      "text/html": [
       "<div>\n",
       "<style scoped>\n",
       "    .dataframe tbody tr th:only-of-type {\n",
       "        vertical-align: middle;\n",
       "    }\n",
       "\n",
       "    .dataframe tbody tr th {\n",
       "        vertical-align: top;\n",
       "    }\n",
       "\n",
       "    .dataframe thead th {\n",
       "        text-align: right;\n",
       "    }\n",
       "</style>\n",
       "<table border=\"1\" class=\"dataframe\">\n",
       "  <thead>\n",
       "    <tr style=\"text-align: right;\">\n",
       "      <th></th>\n",
       "      <th>term_str</th>\n",
       "      <th>n</th>\n",
       "      <th>num</th>\n",
       "      <th>stem_porter</th>\n",
       "      <th>stem_snowball</th>\n",
       "      <th>stem_lancaster</th>\n",
       "    </tr>\n",
       "    <tr>\n",
       "      <th>term_id</th>\n",
       "      <th></th>\n",
       "      <th></th>\n",
       "      <th></th>\n",
       "      <th></th>\n",
       "      <th></th>\n",
       "      <th></th>\n",
       "    </tr>\n",
       "  </thead>\n",
       "  <tbody>\n",
       "    <tr>\n",
       "      <th>29672</th>\n",
       "      <td>rotation</td>\n",
       "      <td>11</td>\n",
       "      <td>0</td>\n",
       "      <td>rotat</td>\n",
       "      <td>rotat</td>\n",
       "      <td>rot</td>\n",
       "    </tr>\n",
       "    <tr>\n",
       "      <th>5321</th>\n",
       "      <td>cars</td>\n",
       "      <td>3</td>\n",
       "      <td>0</td>\n",
       "      <td>car</td>\n",
       "      <td>car</td>\n",
       "      <td>car</td>\n",
       "    </tr>\n",
       "    <tr>\n",
       "      <th>3058</th>\n",
       "      <td>beaching</td>\n",
       "      <td>2</td>\n",
       "      <td>0</td>\n",
       "      <td>beach</td>\n",
       "      <td>beach</td>\n",
       "      <td>beach</td>\n",
       "    </tr>\n",
       "    <tr>\n",
       "      <th>23043</th>\n",
       "      <td>nails</td>\n",
       "      <td>28</td>\n",
       "      <td>0</td>\n",
       "      <td>nail</td>\n",
       "      <td>nail</td>\n",
       "      <td>nail</td>\n",
       "    </tr>\n",
       "    <tr>\n",
       "      <th>3234</th>\n",
       "      <td>beginningly</td>\n",
       "      <td>1</td>\n",
       "      <td>0</td>\n",
       "      <td>beginningli</td>\n",
       "      <td>begin</td>\n",
       "      <td>begin</td>\n",
       "    </tr>\n",
       "    <tr>\n",
       "      <th>32971</th>\n",
       "      <td>staving</td>\n",
       "      <td>2</td>\n",
       "      <td>0</td>\n",
       "      <td>stave</td>\n",
       "      <td>stave</td>\n",
       "      <td>stav</td>\n",
       "    </tr>\n",
       "    <tr>\n",
       "      <th>38651</th>\n",
       "      <td>watered</td>\n",
       "      <td>8</td>\n",
       "      <td>0</td>\n",
       "      <td>water</td>\n",
       "      <td>water</td>\n",
       "      <td>wat</td>\n",
       "    </tr>\n",
       "    <tr>\n",
       "      <th>47</th>\n",
       "      <td>1695</td>\n",
       "      <td>1</td>\n",
       "      <td>1</td>\n",
       "      <td>1695</td>\n",
       "      <td>1695</td>\n",
       "      <td>1695</td>\n",
       "    </tr>\n",
       "    <tr>\n",
       "      <th>12359</th>\n",
       "      <td>ewer</td>\n",
       "      <td>3</td>\n",
       "      <td>0</td>\n",
       "      <td>ewer</td>\n",
       "      <td>ewer</td>\n",
       "      <td>ew</td>\n",
       "    </tr>\n",
       "    <tr>\n",
       "      <th>4967</th>\n",
       "      <td>calculus</td>\n",
       "      <td>1</td>\n",
       "      <td>0</td>\n",
       "      <td>calculu</td>\n",
       "      <td>calculus</td>\n",
       "      <td>calcul</td>\n",
       "    </tr>\n",
       "  </tbody>\n",
       "</table>\n",
       "</div>"
      ],
      "text/plain": [
       "            term_str   n  num  stem_porter stem_snowball stem_lancaster\n",
       "term_id                                                                \n",
       "29672       rotation  11    0        rotat         rotat            rot\n",
       "5321            cars   3    0          car           car            car\n",
       "3058        beaching   2    0        beach         beach          beach\n",
       "23043          nails  28    0         nail          nail           nail\n",
       "3234     beginningly   1    0  beginningli         begin          begin\n",
       "32971        staving   2    0        stave         stave           stav\n",
       "38651        watered   8    0        water         water            wat\n",
       "47              1695   1    1         1695          1695           1695\n",
       "12359           ewer   3    0         ewer          ewer             ew\n",
       "4967        calculus   1    0      calculu      calculus         calcul"
      ]
     },
     "execution_count": 350,
     "metadata": {},
     "output_type": "execute_result"
    }
   ],
   "source": [
    "VOCAB.sample(10)"
   ]
  },
  {
   "cell_type": "code",
   "execution_count": 352,
   "metadata": {
    "colab": {
     "base_uri": "https://localhost:8080/",
     "height": 375
    },
    "colab_type": "code",
    "id": "dY__Bq0yXqbj",
    "outputId": "eddcdafe-e378-4f7b-ac6b-1fc41ef64fbb"
   },
   "outputs": [
    {
     "data": {
      "text/html": [
       "<div>\n",
       "<style scoped>\n",
       "    .dataframe tbody tr th:only-of-type {\n",
       "        vertical-align: middle;\n",
       "    }\n",
       "\n",
       "    .dataframe tbody tr th {\n",
       "        vertical-align: top;\n",
       "    }\n",
       "\n",
       "    .dataframe thead th {\n",
       "        text-align: right;\n",
       "    }\n",
       "</style>\n",
       "<table border=\"1\" class=\"dataframe\">\n",
       "  <thead>\n",
       "    <tr style=\"text-align: right;\">\n",
       "      <th></th>\n",
       "      <th>term_str</th>\n",
       "      <th>n</th>\n",
       "      <th>num</th>\n",
       "      <th>stem_porter</th>\n",
       "      <th>stem_snowball</th>\n",
       "      <th>stem_lancaster</th>\n",
       "    </tr>\n",
       "    <tr>\n",
       "      <th>term_id</th>\n",
       "      <th></th>\n",
       "      <th></th>\n",
       "      <th></th>\n",
       "      <th></th>\n",
       "      <th></th>\n",
       "      <th></th>\n",
       "    </tr>\n",
       "  </thead>\n",
       "  <tbody>\n",
       "    <tr>\n",
       "      <th>208</th>\n",
       "      <td>abandonedly</td>\n",
       "      <td>2</td>\n",
       "      <td>0</td>\n",
       "      <td>abandonedli</td>\n",
       "      <td>abandon</td>\n",
       "      <td>abandon</td>\n",
       "    </tr>\n",
       "    <tr>\n",
       "      <th>256</th>\n",
       "      <td>abhorringly</td>\n",
       "      <td>1</td>\n",
       "      <td>0</td>\n",
       "      <td>abhorringli</td>\n",
       "      <td>abhor</td>\n",
       "      <td>abhor</td>\n",
       "    </tr>\n",
       "    <tr>\n",
       "      <th>267</th>\n",
       "      <td>abjectly</td>\n",
       "      <td>2</td>\n",
       "      <td>0</td>\n",
       "      <td>abjectli</td>\n",
       "      <td>abject</td>\n",
       "      <td>abject</td>\n",
       "    </tr>\n",
       "    <tr>\n",
       "      <th>269</th>\n",
       "      <td>abjectus</td>\n",
       "      <td>1</td>\n",
       "      <td>0</td>\n",
       "      <td>abjectu</td>\n",
       "      <td>abjectus</td>\n",
       "      <td>abject</td>\n",
       "    </tr>\n",
       "    <tr>\n",
       "      <th>303</th>\n",
       "      <td>aboundingly</td>\n",
       "      <td>1</td>\n",
       "      <td>0</td>\n",
       "      <td>aboundingli</td>\n",
       "      <td>abound</td>\n",
       "      <td>abound</td>\n",
       "    </tr>\n",
       "    <tr>\n",
       "      <th>...</th>\n",
       "      <td>...</td>\n",
       "      <td>...</td>\n",
       "      <td>...</td>\n",
       "      <td>...</td>\n",
       "      <td>...</td>\n",
       "      <td>...</td>\n",
       "    </tr>\n",
       "    <tr>\n",
       "      <th>39633</th>\n",
       "      <td>yes</td>\n",
       "      <td>962</td>\n",
       "      <td>0</td>\n",
       "      <td>ye</td>\n",
       "      <td>yes</td>\n",
       "      <td>ye</td>\n",
       "    </tr>\n",
       "    <tr>\n",
       "      <th>39682</th>\n",
       "      <td>yrs</td>\n",
       "      <td>4</td>\n",
       "      <td>0</td>\n",
       "      <td>yr</td>\n",
       "      <td>yrs</td>\n",
       "      <td>yr</td>\n",
       "    </tr>\n",
       "    <tr>\n",
       "      <th>39685</th>\n",
       "      <td>zaccheus</td>\n",
       "      <td>1</td>\n",
       "      <td>0</td>\n",
       "      <td>zaccheu</td>\n",
       "      <td>zaccheus</td>\n",
       "      <td>zacche</td>\n",
       "    </tr>\n",
       "    <tr>\n",
       "      <th>39686</th>\n",
       "      <td>zadockprattsville</td>\n",
       "      <td>2</td>\n",
       "      <td>0</td>\n",
       "      <td>zadockprattsvil</td>\n",
       "      <td>zadockprattsvill</td>\n",
       "      <td>zadockprattsvil</td>\n",
       "    </tr>\n",
       "    <tr>\n",
       "      <th>39697</th>\n",
       "      <td>zealous</td>\n",
       "      <td>12</td>\n",
       "      <td>0</td>\n",
       "      <td>zealou</td>\n",
       "      <td>zealous</td>\n",
       "      <td>zeal</td>\n",
       "    </tr>\n",
       "  </tbody>\n",
       "</table>\n",
       "<p>1249 rows × 6 columns</p>\n",
       "</div>"
      ],
      "text/plain": [
       "                  term_str    n  num      stem_porter     stem_snowball  \\\n",
       "term_id                                                                   \n",
       "208            abandonedly    2    0      abandonedli           abandon   \n",
       "256            abhorringly    1    0      abhorringli             abhor   \n",
       "267               abjectly    2    0         abjectli            abject   \n",
       "269               abjectus    1    0          abjectu          abjectus   \n",
       "303            aboundingly    1    0      aboundingli            abound   \n",
       "...                    ...  ...  ...              ...               ...   \n",
       "39633                  yes  962    0               ye               yes   \n",
       "39682                  yrs    4    0               yr               yrs   \n",
       "39685             zaccheus    1    0          zaccheu          zaccheus   \n",
       "39686    zadockprattsville    2    0  zadockprattsvil  zadockprattsvill   \n",
       "39697              zealous   12    0           zealou           zealous   \n",
       "\n",
       "          stem_lancaster  \n",
       "term_id                   \n",
       "208              abandon  \n",
       "256                abhor  \n",
       "267               abject  \n",
       "269               abject  \n",
       "303               abound  \n",
       "...                  ...  \n",
       "39633                 ye  \n",
       "39682                 yr  \n",
       "39685             zacche  \n",
       "39686    zadockprattsvil  \n",
       "39697               zeal  \n",
       "\n",
       "[1249 rows x 6 columns]"
      ]
     },
     "execution_count": 352,
     "metadata": {},
     "output_type": "execute_result"
    }
   ],
   "source": [
    "VOCAB[VOCAB.stem_porter != VOCAB.stem_snowball]"
   ]
  },
  {
   "cell_type": "markdown",
   "metadata": {},
   "source": [
    "# Save"
   ]
  },
  {
   "cell_type": "code",
   "execution_count": 353,
   "metadata": {},
   "outputs": [],
   "source": [
    "DOC.to_csv('DOC.csv')\n",
    "LIB.to_csv('LIB.csv')\n",
    "VOCAB.to_csv('VOCAB.csv')\n",
    "TOKEN.to_csv('TOKEN.csv')"
   ]
  },
  {
   "cell_type": "markdown",
   "metadata": {},
   "source": [
    "# Save to SQLite"
   ]
  },
  {
   "cell_type": "code",
   "execution_count": 354,
   "metadata": {},
   "outputs": [],
   "source": [
    "import sqlite3\n",
    "\n",
    "TOKEN2 = TOKEN.drop('pos_tuple', 1)\n",
    "\n",
    "with sqlite3.connect('mod4-corpus.db') as db:\n",
    "    DOC.to_sql('doc', db, index=True, if_exists='replace')\n",
    "    LIB.to_sql('lib', db, index=True, if_exists='replace')\n",
    "    VOCAB.to_sql('vocab', db, index=True, if_exists='replace')\n",
    "    TOKEN2.to_sql('token', db, index=True, if_exists='replace')"
   ]
  },
  {
   "cell_type": "markdown",
   "metadata": {},
   "source": [
    "# Appendix: Explore NER tagging\n",
    "\n",
    "This takes a while, so we look at one book only."
   ]
  },
  {
   "cell_type": "code",
   "execution_count": 331,
   "metadata": {},
   "outputs": [
    {
     "name": "stdout",
     "output_type": "stream",
     "text": [
      "CPU times: user 46.2 s, sys: 156 ms, total: 46.3 s\n",
      "Wall time: 46.4 s\n"
     ]
    }
   ],
   "source": [
    "%%time \n",
    "NER = TOKEN.loc[158].groupby(OHCO[1:4]).pos_tuple\\\n",
    "    .apply(lambda x: nltk.ne_chunk(x.tolist()))\\\n",
    "    .to_frame().rename(columns={'pos_tuple':'nltk_sentence'})"
   ]
  },
  {
   "cell_type": "code",
   "execution_count": 332,
   "metadata": {},
   "outputs": [
    {
     "data": {
      "image/png": "[encoded data removed]",
      "text/plain": [
       "Tree('S', [Tree('GPE', [('Highbury', 'NNP')]), (',', ','), ('the', 'DT'), ('large', 'JJ'), ('and', 'CC'), ('populous', 'JJ'), ('village', 'NN'), (',', ','), ('almost', 'RB'), ('amounting', 'VBG'), ('to', 'TO'), ('a', 'DT'), ('town', 'NN'), (',', ','), ('to', 'TO'), ('which', 'WDT'), Tree('PERSON', [('Hartfield', 'NNP')]), (',', ','), ('in', 'IN'), ('spite', 'NN'), ('of', 'IN'), ('its', 'PRP$'), ('separate', 'JJ'), ('lawn', 'NN'), (',', ','), ('and', 'CC'), ('shrubberies', 'NNS'), (',', ','), ('and', 'CC'), ('name', 'NN'), (',', ','), ('did', 'VBD'), ('really', 'RB'), ('belong', 'JJ'), (',', ','), ('afforded', 'VBD'), ('her', 'PRP'), ('no', 'DT'), ('equals', 'NNS'), ('.', '.')])"
      ]
     },
     "execution_count": 332,
     "metadata": {},
     "output_type": "execute_result"
    }
   ],
   "source": [
    "NER.iloc[26].nltk_sentence"
   ]
  },
  {
   "cell_type": "code",
   "execution_count": 333,
   "metadata": {},
   "outputs": [
    {
     "data": {
      "image/png": "[encoded data removed]",
      "text/plain": [
       "Tree('S', [('Even', 'RB'), ('before', 'IN'), Tree('PERSON', [('Miss', 'NNP'), ('Taylor', 'NNP')]), ('had', 'VBD'), ('ceased', 'VBN'), ('to', 'TO'), ('hold', 'VB'), ('the', 'DT'), ('nominal', 'JJ'), ('office', 'NN'), ('of', 'IN'), ('governess', 'NN'), (',', ','), ('the', 'DT'), ('mildness', 'NN'), ('of', 'IN'), ('her', 'PRP$'), ('temper', 'NN'), ('had', 'VBD'), ('hardly', 'RB'), ('allowed', 'VBN'), ('her', 'PRP'), ('to', 'TO'), ('impose', 'VB'), ('any', 'DT'), ('restraint', 'NN'), (';', ':'), ('and', 'CC'), ('the', 'DT'), ('shadow', 'NN'), ('of', 'IN'), ('authority', 'NN'), ('being', 'VBG'), ('now', 'RB'), ('long', 'RB'), ('passed', 'VBN'), ('away', 'RB'), (',', ','), ('they', 'PRP'), ('had', 'VBD'), ('been', 'VBN'), ('living', 'VBG'), ('together', 'RB'), ('as', 'IN'), ('friend', 'NN'), ('and', 'CC'), ('friend', 'VB'), ('very', 'RB'), ('mutually', 'RB'), ('attached', 'VBN'), (',', ','), ('and', 'CC'), Tree('PERSON', [('Emma', 'NNP')]), ('doing', 'VBG'), ('just', 'RB'), ('what', 'WP'), ('she', 'PRP'), ('liked', 'VBD'), (';', ':'), ('highly', 'RB'), ('esteeming', 'VBG'), Tree('PERSON', [('Miss', 'NNP'), ('Taylor', 'NNP')]), (\"'s\", 'POS'), ('judgment', 'NN'), (',', ','), ('but', 'CC'), ('directed', 'VBD'), ('chiefly', 'NN'), ('by', 'IN'), ('her', 'PRP$'), ('own', 'JJ'), ('.', '.')])"
      ]
     },
     "execution_count": 333,
     "metadata": {},
     "output_type": "execute_result"
    }
   ],
   "source": [
    "NER.iloc[5].nltk_sentence"
   ]
  },
  {
   "cell_type": "code",
   "execution_count": 334,
   "metadata": {},
   "outputs": [],
   "source": [
    "NER['len'] = NER.nltk_sentence.apply(lambda x: len(x))"
   ]
  },
  {
   "cell_type": "code",
   "execution_count": 336,
   "metadata": {},
   "outputs": [
    {
     "data": {
      "image/png": "[encoded data removed]",
      "text/plain": [
       "<Figure size 432x288 with 1 Axes>"
      ]
     },
     "metadata": {
      "needs_background": "light"
     },
     "output_type": "display_data"
    }
   ],
   "source": [
    "NER.len.hist();"
   ]
  },
  {
   "cell_type": "code",
   "execution_count": 337,
   "metadata": {},
   "outputs": [
    {
     "data": {
      "text/plain": [
       "[Tree('S', [Tree('PERSON', [('Between', 'NNP')]), ('_them_', 'VBD'), ('it', 'PRP'), ('was', 'VBD'), ('more', 'RBR'), ('the', 'DT'), ('intimacy', 'NN'), ('of', 'IN'), ('sisters', 'NNS'), ('.', '.')]),\n",
       " 10]"
      ]
     },
     "execution_count": 337,
     "metadata": {},
     "output_type": "execute_result"
    }
   ],
   "source": [
    "NER[NER.len == 10].iloc[0].tolist()"
   ]
  },
  {
   "cell_type": "code",
   "execution_count": 307,
   "metadata": {},
   "outputs": [
    {
     "data": {
      "image/png": "[encoded data removed]",
      "text/plain": [
       "Tree('S', [Tree('PERSON', [('Between', 'NNP')]), ('_them_', 'VBD'), ('it', 'PRP'), ('was', 'VBD'), ('more', 'RBR'), ('the', 'DT'), ('intimacy', 'NN'), ('of', 'IN'), ('sisters', 'NNS'), ('.', '.')])"
      ]
     },
     "execution_count": 307,
     "metadata": {},
     "output_type": "execute_result"
    }
   ],
   "source": [
    "NER[NER.len == 10].iloc[0].nltk_sentence"
   ]
  },
  {
   "cell_type": "code",
   "execution_count": 116,
   "metadata": {},
   "outputs": [
    {
     "data": {
      "text/plain": [
       "[Tree('S', [('It', 'PRP'), ('was', 'VBD'), Tree('PERSON', [('Miss', 'NNP'), ('Taylor', 'NNP')]), (\"'s\", 'POS'), ('loss', 'NN'), ('which', 'WDT'), ('first', 'RB'), ('brought', 'VBD'), ('grief', 'NN'), ('.', '.')]),\n",
       " 10]"
      ]
     },
     "execution_count": 116,
     "metadata": {},
     "output_type": "execute_result"
    }
   ],
   "source": [
    "NER[NER.len == 10].iloc[1].tolist()"
   ]
  },
  {
   "cell_type": "code",
   "execution_count": 308,
   "metadata": {},
   "outputs": [
    {
     "data": {
      "image/png": "[encoded data removed]",
      "text/plain": [
       "Tree('S', [('It', 'PRP'), ('was', 'VBD'), Tree('PERSON', [('Miss', 'NNP'), ('Taylor', 'NNP')]), (\"'s\", 'POS'), ('loss', 'NN'), ('which', 'WDT'), ('first', 'RB'), ('brought', 'VBD'), ('grief', 'NN'), ('.', '.')])"
      ]
     },
     "execution_count": 308,
     "metadata": {},
     "output_type": "execute_result"
    }
   ],
   "source": [
    "NER[NER.len == 10].iloc[1].nltk_sentence"
   ]
  },
  {
   "cell_type": "code",
   "execution_count": 313,
   "metadata": {},
   "outputs": [
    {
     "data": {
      "text/plain": [
       "[Tree('S', [('We', 'PRP'), ('talked', 'VBD'), ('it', 'PRP'), ('all', 'DT'), ('over', 'IN'), ('with', 'IN'), Tree('PERSON', [('Mr.', 'NNP'), ('Weston', 'NNP')]), ('last', 'JJ'), ('night', 'NN'), ('.', '.')]),\n",
       " 10]"
      ]
     },
     "execution_count": 313,
     "metadata": {},
     "output_type": "execute_result"
    }
   ],
   "source": [
    "NER[NER.len == 10].iloc[2].to_list()"
   ]
  },
  {
   "cell_type": "code",
   "execution_count": 309,
   "metadata": {},
   "outputs": [
    {
     "data": {
      "image/png": "[encoded data removed]",
      "text/plain": [
       "Tree('S', [('We', 'PRP'), ('talked', 'VBD'), ('it', 'PRP'), ('all', 'DT'), ('over', 'IN'), ('with', 'IN'), Tree('PERSON', [('Mr.', 'NNP'), ('Weston', 'NNP')]), ('last', 'JJ'), ('night', 'NN'), ('.', '.')])"
      ]
     },
     "execution_count": 309,
     "metadata": {},
     "output_type": "execute_result"
    }
   ],
   "source": [
    "NER[NER.len == 10].iloc[2].nltk_sentence"
   ]
  },
  {
   "cell_type": "markdown",
   "metadata": {
    "colab_type": "text",
    "id": "NfMtOiCYDylX",
    "toc-hr-collapsed": false
   },
   "source": [
    "# POS Tagset\n",
    "\n",
    "This a token-level feature -- not a vocab feature"
   ]
  },
  {
   "cell_type": "code",
   "execution_count": 355,
   "metadata": {
    "colab": {},
    "colab_type": "code",
    "id": "FFoFrPTSN4s_"
   },
   "outputs": [
    {
     "name": "stdout",
     "output_type": "stream",
     "text": [
      "$: dollar\n",
      "    $ -$ --$ A$ C$ HK$ M$ NZ$ S$ U.S.$ US$\n",
      "'': closing quotation mark\n",
      "    ' ''\n",
      "(: opening parenthesis\n",
      "    ( [ {\n",
      "): closing parenthesis\n",
      "    ) ] }\n",
      ",: comma\n",
      "    ,\n",
      "--: dash\n",
      "    --\n",
      ".: sentence terminator\n",
      "    . ! ?\n",
      ":: colon or ellipsis\n",
      "    : ; ...\n",
      "CC: conjunction, coordinating\n",
      "    & 'n and both but either et for less minus neither nor or plus so\n",
      "    therefore times v. versus vs. whether yet\n",
      "CD: numeral, cardinal\n",
      "    mid-1890 nine-thirty forty-two one-tenth ten million 0.5 one forty-\n",
      "    seven 1987 twenty '79 zero two 78-degrees eighty-four IX '60s .025\n",
      "    fifteen 271,124 dozen quintillion DM2,000 ...\n",
      "DT: determiner\n",
      "    all an another any both del each either every half la many much nary\n",
      "    neither no some such that the them these this those\n",
      "EX: existential there\n",
      "    there\n",
      "FW: foreign word\n",
      "    gemeinschaft hund ich jeux habeas Haementeria Herr K'ang-si vous\n",
      "    lutihaw alai je jour objets salutaris fille quibusdam pas trop Monte\n",
      "    terram fiche oui corporis ...\n",
      "IN: preposition or conjunction, subordinating\n",
      "    astride among uppon whether out inside pro despite on by throughout\n",
      "    below within for towards near behind atop around if like until below\n",
      "    next into if beside ...\n",
      "JJ: adjective or numeral, ordinal\n",
      "    third ill-mannered pre-war regrettable oiled calamitous first separable\n",
      "    ectoplasmic battery-powered participatory fourth still-to-be-named\n",
      "    multilingual multi-disciplinary ...\n",
      "JJR: adjective, comparative\n",
      "    bleaker braver breezier briefer brighter brisker broader bumper busier\n",
      "    calmer cheaper choosier cleaner clearer closer colder commoner costlier\n",
      "    cozier creamier crunchier cuter ...\n",
      "JJS: adjective, superlative\n",
      "    calmest cheapest choicest classiest cleanest clearest closest commonest\n",
      "    corniest costliest crassest creepiest crudest cutest darkest deadliest\n",
      "    dearest deepest densest dinkiest ...\n",
      "LS: list item marker\n",
      "    A A. B B. C C. D E F First G H I J K One SP-44001 SP-44002 SP-44005\n",
      "    SP-44007 Second Third Three Two * a b c d first five four one six three\n",
      "    two\n",
      "MD: modal auxiliary\n",
      "    can cannot could couldn't dare may might must need ought shall should\n",
      "    shouldn't will would\n",
      "NN: noun, common, singular or mass\n",
      "    common-carrier cabbage knuckle-duster Casino afghan shed thermostat\n",
      "    investment slide humour falloff slick wind hyena override subhumanity\n",
      "    machinist ...\n",
      "NNP: noun, proper, singular\n",
      "    Motown Venneboerger Czestochwa Ranzer Conchita Trumplane Christos\n",
      "    Oceanside Escobar Kreisler Sawyer Cougar Yvette Ervin ODI Darryl CTCA\n",
      "    Shannon A.K.C. Meltex Liverpool ...\n",
      "NNPS: noun, proper, plural\n",
      "    Americans Americas Amharas Amityvilles Amusements Anarcho-Syndicalists\n",
      "    Andalusians Andes Andruses Angels Animals Anthony Antilles Antiques\n",
      "    Apache Apaches Apocrypha ...\n",
      "NNS: noun, common, plural\n",
      "    undergraduates scotches bric-a-brac products bodyguards facets coasts\n",
      "    divestitures storehouses designs clubs fragrances averages\n",
      "    subjectivists apprehensions muses factory-jobs ...\n",
      "PDT: pre-determiner\n",
      "    all both half many quite such sure this\n",
      "POS: genitive marker\n",
      "    ' 's\n",
      "PRP: pronoun, personal\n",
      "    hers herself him himself hisself it itself me myself one oneself ours\n",
      "    ourselves ownself self she thee theirs them themselves they thou thy us\n",
      "PRP$: pronoun, possessive\n",
      "    her his mine my our ours their thy your\n",
      "RB: adverb\n",
      "    occasionally unabatingly maddeningly adventurously professedly\n",
      "    stirringly prominently technologically magisterially predominately\n",
      "    swiftly fiscally pitilessly ...\n",
      "RBR: adverb, comparative\n",
      "    further gloomier grander graver greater grimmer harder harsher\n",
      "    healthier heavier higher however larger later leaner lengthier less-\n",
      "    perfectly lesser lonelier longer louder lower more ...\n",
      "RBS: adverb, superlative\n",
      "    best biggest bluntest earliest farthest first furthest hardest\n",
      "    heartiest highest largest least less most nearest second tightest worst\n",
      "RP: particle\n",
      "    aboard about across along apart around aside at away back before behind\n",
      "    by crop down ever fast for forth from go high i.e. in into just later\n",
      "    low more off on open out over per pie raising start teeth that through\n",
      "    under unto up up-pp upon whole with you\n",
      "SYM: symbol\n",
      "    % & ' '' ''. ) ). * + ,. < = > @ A[fj] U.S U.S.S.R * ** ***\n",
      "TO: \"to\" as preposition or infinitive marker\n",
      "    to\n",
      "UH: interjection\n",
      "    Goodbye Goody Gosh Wow Jeepers Jee-sus Hubba Hey Kee-reist Oops amen\n",
      "    huh howdy uh dammit whammo shucks heck anyways whodunnit honey golly\n",
      "    man baby diddle hush sonuvabitch ...\n",
      "VB: verb, base form\n",
      "    ask assemble assess assign assume atone attention avoid bake balkanize\n",
      "    bank begin behold believe bend benefit bevel beware bless boil bomb\n",
      "    boost brace break bring broil brush build ...\n",
      "VBD: verb, past tense\n",
      "    dipped pleaded swiped regummed soaked tidied convened halted registered\n",
      "    cushioned exacted snubbed strode aimed adopted belied figgered\n",
      "    speculated wore appreciated contemplated ...\n",
      "VBG: verb, present participle or gerund\n",
      "    telegraphing stirring focusing angering judging stalling lactating\n",
      "    hankerin' alleging veering capping approaching traveling besieging\n",
      "    encrypting interrupting erasing wincing ...\n",
      "VBN: verb, past participle\n",
      "    multihulled dilapidated aerosolized chaired languished panelized used\n",
      "    experimented flourished imitated reunifed factored condensed sheared\n",
      "    unsettled primed dubbed desired ...\n",
      "VBP: verb, present tense, not 3rd person singular\n",
      "    predominate wrap resort sue twist spill cure lengthen brush terminate\n",
      "    appear tend stray glisten obtain comprise detest tease attract\n",
      "    emphasize mold postpone sever return wag ...\n",
      "VBZ: verb, present tense, 3rd person singular\n",
      "    bases reconstructs marks mixes displeases seals carps weaves snatches\n",
      "    slumps stretches authorizes smolders pictures emerges stockpiles\n",
      "    seduces fizzes uses bolsters slaps speaks pleads ...\n",
      "WDT: WH-determiner\n",
      "    that what whatever which whichever\n",
      "WP: WH-pronoun\n",
      "    that what whatever whatsoever which who whom whosoever\n",
      "WP$: WH-pronoun, possessive\n",
      "    whose\n",
      "WRB: Wh-adverb\n",
      "    how however whence whenever where whereby whereever wherein whereof why\n",
      "``: opening quotation mark\n",
      "    ` ``\n"
     ]
    }
   ],
   "source": [
    "nltk.help.upenn_tagset()"
   ]
  },
  {
   "cell_type": "code",
   "execution_count": null,
   "metadata": {},
   "outputs": [],
   "source": []
  }
 ],
 "metadata": {
  "colab": {
   "collapsed_sections": [],
   "name": "DS5559_Annotations.ipynb",
   "provenance": [],
   "toc_visible": true,
   "version": "0.3.2"
  },
  "kernelspec": {
   "display_name": "Python 3 (ipykernel)",
   "language": "python",
   "name": "python3"
  },
  "language_info": {
   "codemirror_mode": {
    "name": "ipython",
    "version": 3
   },
   "file_extension": ".py",
   "mimetype": "text/x-python",
   "name": "python",
   "nbconvert_exporter": "python",
   "pygments_lexer": "ipython3",
   "version": "3.9.1"
  },
  "widgets": {
   "application/vnd.jupyter.widget-state+json": {
    "state": {},
    "version_major": 2,
    "version_minor": 0
   }
  }
 },
 "nbformat": 4,
 "nbformat_minor": 4
}
