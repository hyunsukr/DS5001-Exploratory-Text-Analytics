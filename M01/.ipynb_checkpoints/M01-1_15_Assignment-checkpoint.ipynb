{
 "cells": [
  {
   "cell_type": "markdown",
   "id": "bbfdb804-ad39-4165-bdd2-a8a02a134064",
   "metadata": {},
   "source": [
    "## Assignment 1.15\n",
    "\n",
    "Max Ryoo (hr2ee)\n"
   ]
  },
  {
   "cell_type": "markdown",
   "id": "035a8a59-2b23-4b01-be23-bf5f1c93ea92",
   "metadata": {},
   "source": [
    "#### Set up"
   ]
  },
  {
   "cell_type": "code",
   "execution_count": 5,
   "id": "a81dc24f-3751-419f-b092-ec69c33d80c4",
   "metadata": {},
   "outputs": [],
   "source": [
    "import pandas as pd\n",
    "%matplotlib inline"
   ]
  },
  {
   "cell_type": "code",
   "execution_count": 4,
   "id": "7df3ba72-97f5-47e1-bfef-2ff6d09777ca",
   "metadata": {},
   "outputs": [],
   "source": [
    "epub_file = \"2701-0.txt\""
   ]
  },
  {
   "cell_type": "markdown",
   "id": "77ee0800-1e93-4077-a166-632c4306c6bd",
   "metadata": {},
   "source": [
    "#### Import into DataFrame"
   ]
  },
  {
   "cell_type": "code",
   "execution_count": 6,
   "id": "92e77565-05df-4400-b3af-1c8949f93f2c",
   "metadata": {},
   "outputs": [],
   "source": [
    "epub = open(epub_file, 'r', encoding='utf-8-sig').readlines()\n",
    "df = pd.DataFrame(epub, columns=['line_str'])\n",
    "df.index.name = 'line_num'\n",
    "df.line_str = df.line_str.str.strip()"
   ]
  },
  {
   "cell_type": "code",
   "execution_count": 7,
   "id": "47f93a88-b00b-420e-a643-b06199e05b0b",
   "metadata": {},
   "outputs": [
    {
     "data": {
      "text/html": [
       "<div>\n",
       "<style scoped>\n",
       "    .dataframe tbody tr th:only-of-type {\n",
       "        vertical-align: middle;\n",
       "    }\n",
       "\n",
       "    .dataframe tbody tr th {\n",
       "        vertical-align: top;\n",
       "    }\n",
       "\n",
       "    .dataframe thead th {\n",
       "        text-align: right;\n",
       "    }\n",
       "</style>\n",
       "<table border=\"1\" class=\"dataframe\">\n",
       "  <thead>\n",
       "    <tr style=\"text-align: right;\">\n",
       "      <th></th>\n",
       "      <th>line_str</th>\n",
       "    </tr>\n",
       "    <tr>\n",
       "      <th>line_num</th>\n",
       "      <th></th>\n",
       "    </tr>\n",
       "  </thead>\n",
       "  <tbody>\n",
       "    <tr>\n",
       "      <th>18059</th>\n",
       "      <td>(_Carpenter standing before his vice-bench, an...</td>\n",
       "    </tr>\n",
       "    <tr>\n",
       "      <th>6724</th>\n",
       "      <td>topmaul: “a white whale. Skin your eyes for hi...</td>\n",
       "    </tr>\n",
       "    <tr>\n",
       "      <th>1567</th>\n",
       "      <td>little more in my shirt sleeves. But beginning...</td>\n",
       "    </tr>\n",
       "    <tr>\n",
       "      <th>1291</th>\n",
       "      <td>to our lips cups of scalding tea with our half...</td>\n",
       "    </tr>\n",
       "    <tr>\n",
       "      <th>19271</th>\n",
       "      <td>is that stove? In the stern-sheets, man; where...</td>\n",
       "    </tr>\n",
       "    <tr>\n",
       "      <th>14651</th>\n",
       "      <td>between. In no living thing are the lines of b...</td>\n",
       "    </tr>\n",
       "    <tr>\n",
       "      <th>7168</th>\n",
       "      <td>dancing girls!—the Heeva-Heeva! Ah! low veiled...</td>\n",
       "    </tr>\n",
       "    <tr>\n",
       "      <th>4427</th>\n",
       "      <td>wonderingly looking from me to Queequeg, with ...</td>\n",
       "    </tr>\n",
       "    <tr>\n",
       "      <th>12672</th>\n",
       "      <td>whale and the ship—where he would occasionally...</td>\n",
       "    </tr>\n",
       "    <tr>\n",
       "      <th>12641</th>\n",
       "      <td>any way get rid of the dangerous liabilities w...</td>\n",
       "    </tr>\n",
       "  </tbody>\n",
       "</table>\n",
       "</div>"
      ],
      "text/plain": [
       "                                                   line_str\n",
       "line_num                                                   \n",
       "18059     (_Carpenter standing before his vice-bench, an...\n",
       "6724      topmaul: “a white whale. Skin your eyes for hi...\n",
       "1567      little more in my shirt sleeves. But beginning...\n",
       "1291      to our lips cups of scalding tea with our half...\n",
       "19271     is that stove? In the stern-sheets, man; where...\n",
       "14651     between. In no living thing are the lines of b...\n",
       "7168      dancing girls!—the Heeva-Heeva! Ah! low veiled...\n",
       "4427      wonderingly looking from me to Queequeg, with ...\n",
       "12672     whale and the ship—where he would occasionally...\n",
       "12641     any way get rid of the dangerous liabilities w..."
      ]
     },
     "execution_count": 7,
     "metadata": {},
     "output_type": "execute_result"
    }
   ],
   "source": [
    "df.sample(10)"
   ]
  },
  {
   "cell_type": "markdown",
   "id": "b3f97ddf-b32d-4862-86ee-79230f6648a5",
   "metadata": {},
   "source": [
    "## Questions\n",
    "\n",
    "1. How many lines does the file have?\n",
    "\n",
    "2. At what line number does the novel’s contents begin?\n",
    "\n",
    "3. At what line number does the novel’s content end?"
   ]
  },
  {
   "cell_type": "markdown",
   "id": "1a1356f8-a1e7-4943-8882-9937f3cf47a7",
   "metadata": {},
   "source": [
    "#### Q1\n",
    "How many lines does the file have?"
   ]
  },
  {
   "cell_type": "code",
   "execution_count": 9,
   "id": "06641051-64f3-4c56-ba6e-916cb7fd9b6d",
   "metadata": {},
   "outputs": [
    {
     "data": {
      "text/plain": [
       "(22316, 1)"
      ]
     },
     "execution_count": 9,
     "metadata": {},
     "output_type": "execute_result"
    }
   ],
   "source": [
    "df.shape"
   ]
  },
  {
   "cell_type": "markdown",
   "id": "d486b3fd-2538-494f-beb6-4d58ee2e200e",
   "metadata": {},
   "source": [
    "From the text to pandas dataframe procedure, we can see that the number of lines is 22316. When reading in the dataframe, a new row was created for each new line, which is why we can state the the shape of the dataframe will define how many lines there were in the text file."
   ]
  },
  {
   "cell_type": "markdown",
   "id": "eb3521a6-9047-4bc5-820d-b3da78d1b409",
   "metadata": {},
   "source": [
    "#### Q2\n",
    "At what line number does the novel’s contents begin?"
   ]
  },
  {
   "cell_type": "code",
   "execution_count": 26,
   "id": "2084b7d7-5fdd-42c3-b665-9dc1ae88061d",
   "metadata": {},
   "outputs": [
    {
     "data": {
      "text/plain": [
       "23"
      ]
     },
     "execution_count": 26,
     "metadata": {},
     "output_type": "execute_result"
    }
   ],
   "source": [
    "start_boiler = df.line_str.str.match(r\"\\*\\*\\*\\s*START OF (THE|THIS) PROJECT\")\n",
    "start_line = df.loc[start_boiler].index[0]\n",
    "start_line"
   ]
  },
  {
   "cell_type": "code",
   "execution_count": 28,
   "id": "37ec24dc-cf25-468e-85a4-e5ad875b21e9",
   "metadata": {},
   "outputs": [
    {
     "data": {
      "text/html": [
       "<div>\n",
       "<style scoped>\n",
       "    .dataframe tbody tr th:only-of-type {\n",
       "        vertical-align: middle;\n",
       "    }\n",
       "\n",
       "    .dataframe tbody tr th {\n",
       "        vertical-align: top;\n",
       "    }\n",
       "\n",
       "    .dataframe thead th {\n",
       "        text-align: right;\n",
       "    }\n",
       "</style>\n",
       "<table border=\"1\" class=\"dataframe\">\n",
       "  <thead>\n",
       "    <tr style=\"text-align: right;\">\n",
       "      <th></th>\n",
       "      <th>line_str</th>\n",
       "    </tr>\n",
       "    <tr>\n",
       "      <th>line_num</th>\n",
       "      <th></th>\n",
       "    </tr>\n",
       "  </thead>\n",
       "  <tbody>\n",
       "    <tr>\n",
       "      <th>23</th>\n",
       "      <td>*** START OF THE PROJECT GUTENBERG EBOOK MOBY-...</td>\n",
       "    </tr>\n",
       "    <tr>\n",
       "      <th>24</th>\n",
       "      <td></td>\n",
       "    </tr>\n",
       "    <tr>\n",
       "      <th>25</th>\n",
       "      <td></td>\n",
       "    </tr>\n",
       "    <tr>\n",
       "      <th>26</th>\n",
       "      <td></td>\n",
       "    </tr>\n",
       "    <tr>\n",
       "      <th>27</th>\n",
       "      <td></td>\n",
       "    </tr>\n",
       "    <tr>\n",
       "      <th>28</th>\n",
       "      <td>MOBY-DICK;</td>\n",
       "    </tr>\n",
       "    <tr>\n",
       "      <th>29</th>\n",
       "      <td></td>\n",
       "    </tr>\n",
       "    <tr>\n",
       "      <th>30</th>\n",
       "      <td>or, THE WHALE.</td>\n",
       "    </tr>\n",
       "    <tr>\n",
       "      <th>31</th>\n",
       "      <td></td>\n",
       "    </tr>\n",
       "    <tr>\n",
       "      <th>32</th>\n",
       "      <td>By Herman Melville</td>\n",
       "    </tr>\n",
       "    <tr>\n",
       "      <th>33</th>\n",
       "      <td></td>\n",
       "    </tr>\n",
       "  </tbody>\n",
       "</table>\n",
       "</div>"
      ],
      "text/plain": [
       "                                                   line_str\n",
       "line_num                                                   \n",
       "23        *** START OF THE PROJECT GUTENBERG EBOOK MOBY-...\n",
       "24                                                         \n",
       "25                                                         \n",
       "26                                                         \n",
       "27                                                         \n",
       "28                                               MOBY-DICK;\n",
       "29                                                         \n",
       "30                                           or, THE WHALE.\n",
       "31                                                         \n",
       "32                                       By Herman Melville\n",
       "33                                                         "
      ]
     },
     "execution_count": 28,
     "metadata": {},
     "output_type": "execute_result"
    }
   ],
   "source": [
    "df.loc[start_line : start_line + 10]"
   ]
  },
  {
   "cell_type": "markdown",
   "id": "76a05479-a69d-462b-8908-481a79d809a2",
   "metadata": {},
   "source": [
    "The start of this project marks that start of the content. Therefore, the actual start as shown in the above dataframe can be seen as line number 24 (after the start comment)"
   ]
  },
  {
   "cell_type": "markdown",
   "id": "7807a6c6-d718-4c14-a57e-b7a270694e45",
   "metadata": {},
   "source": [
    "#### Q3\n",
    "At what line number does the novel’s content end?"
   ]
  },
  {
   "cell_type": "code",
   "execution_count": 29,
   "id": "eb992019-e664-4bbb-8488-72fc76b61fe9",
   "metadata": {},
   "outputs": [
    {
     "data": {
      "text/plain": [
       "21964"
      ]
     },
     "execution_count": 29,
     "metadata": {},
     "output_type": "execute_result"
    }
   ],
   "source": [
    "end_boiler = df.line_str.str.match(r\"\\*\\*\\*\\s*END OF (THE|THIS) PROJECT\")\n",
    "end_line = df.loc[end_boiler].index[0]\n",
    "end_line"
   ]
  },
  {
   "cell_type": "code",
   "execution_count": 30,
   "id": "b95d2af3-0d7e-4de9-8866-c8163229afb3",
   "metadata": {},
   "outputs": [
    {
     "data": {
      "text/html": [
       "<div>\n",
       "<style scoped>\n",
       "    .dataframe tbody tr th:only-of-type {\n",
       "        vertical-align: middle;\n",
       "    }\n",
       "\n",
       "    .dataframe tbody tr th {\n",
       "        vertical-align: top;\n",
       "    }\n",
       "\n",
       "    .dataframe thead th {\n",
       "        text-align: right;\n",
       "    }\n",
       "</style>\n",
       "<table border=\"1\" class=\"dataframe\">\n",
       "  <thead>\n",
       "    <tr style=\"text-align: right;\">\n",
       "      <th></th>\n",
       "      <th>line_str</th>\n",
       "    </tr>\n",
       "    <tr>\n",
       "      <th>line_num</th>\n",
       "      <th></th>\n",
       "    </tr>\n",
       "  </thead>\n",
       "  <tbody>\n",
       "    <tr>\n",
       "      <th>21954</th>\n",
       "      <td>one whole day and night, I floated on a soft a...</td>\n",
       "    </tr>\n",
       "    <tr>\n",
       "      <th>21955</th>\n",
       "      <td>unharming sharks, they glided by as if with pa...</td>\n",
       "    </tr>\n",
       "    <tr>\n",
       "      <th>21956</th>\n",
       "      <td>the savage sea-hawks sailed with sheathed beak...</td>\n",
       "    </tr>\n",
       "    <tr>\n",
       "      <th>21957</th>\n",
       "      <td>sail drew near, nearer, and picked me up at la...</td>\n",
       "    </tr>\n",
       "    <tr>\n",
       "      <th>21958</th>\n",
       "      <td>devious-cruising Rachel, that in her retracing...</td>\n",
       "    </tr>\n",
       "    <tr>\n",
       "      <th>21959</th>\n",
       "      <td>children, only found another orphan.</td>\n",
       "    </tr>\n",
       "    <tr>\n",
       "      <th>21960</th>\n",
       "      <td></td>\n",
       "    </tr>\n",
       "    <tr>\n",
       "      <th>21961</th>\n",
       "      <td></td>\n",
       "    </tr>\n",
       "    <tr>\n",
       "      <th>21962</th>\n",
       "      <td></td>\n",
       "    </tr>\n",
       "    <tr>\n",
       "      <th>21963</th>\n",
       "      <td></td>\n",
       "    </tr>\n",
       "    <tr>\n",
       "      <th>21964</th>\n",
       "      <td>*** END OF THE PROJECT GUTENBERG EBOOK MOBY-DI...</td>\n",
       "    </tr>\n",
       "  </tbody>\n",
       "</table>\n",
       "</div>"
      ],
      "text/plain": [
       "                                                   line_str\n",
       "line_num                                                   \n",
       "21954     one whole day and night, I floated on a soft a...\n",
       "21955     unharming sharks, they glided by as if with pa...\n",
       "21956     the savage sea-hawks sailed with sheathed beak...\n",
       "21957     sail drew near, nearer, and picked me up at la...\n",
       "21958     devious-cruising Rachel, that in her retracing...\n",
       "21959                  children, only found another orphan.\n",
       "21960                                                      \n",
       "21961                                                      \n",
       "21962                                                      \n",
       "21963                                                      \n",
       "21964     *** END OF THE PROJECT GUTENBERG EBOOK MOBY-DI..."
      ]
     },
     "execution_count": 30,
     "metadata": {},
     "output_type": "execute_result"
    }
   ],
   "source": [
    "df.loc[end_line - 10 : end_line]"
   ]
  },
  {
   "cell_type": "markdown",
   "id": "519d123b-f857-4c4f-b570-09dbb44a1f01",
   "metadata": {},
   "source": [
    "Similar to the above start finding procedure, the ending comment is found on line number 21964. Theoretically the content of the book will end on 21964 - 1 = 21963."
   ]
  },
  {
   "cell_type": "markdown",
   "id": "7920abce-595b-4454-8685-4187408ccf99",
   "metadata": {},
   "source": [
    "The full contents is shown below"
   ]
  },
  {
   "cell_type": "code",
   "execution_count": 32,
   "id": "91ed08ad-62a6-444a-b63c-1eb00c628131",
   "metadata": {},
   "outputs": [
    {
     "data": {
      "text/html": [
       "<div>\n",
       "<style scoped>\n",
       "    .dataframe tbody tr th:only-of-type {\n",
       "        vertical-align: middle;\n",
       "    }\n",
       "\n",
       "    .dataframe tbody tr th {\n",
       "        vertical-align: top;\n",
       "    }\n",
       "\n",
       "    .dataframe thead th {\n",
       "        text-align: right;\n",
       "    }\n",
       "</style>\n",
       "<table border=\"1\" class=\"dataframe\">\n",
       "  <thead>\n",
       "    <tr style=\"text-align: right;\">\n",
       "      <th></th>\n",
       "      <th>line_str</th>\n",
       "    </tr>\n",
       "    <tr>\n",
       "      <th>line_num</th>\n",
       "      <th></th>\n",
       "    </tr>\n",
       "  </thead>\n",
       "  <tbody>\n",
       "    <tr>\n",
       "      <th>24</th>\n",
       "      <td></td>\n",
       "    </tr>\n",
       "    <tr>\n",
       "      <th>25</th>\n",
       "      <td></td>\n",
       "    </tr>\n",
       "    <tr>\n",
       "      <th>26</th>\n",
       "      <td></td>\n",
       "    </tr>\n",
       "    <tr>\n",
       "      <th>27</th>\n",
       "      <td></td>\n",
       "    </tr>\n",
       "    <tr>\n",
       "      <th>28</th>\n",
       "      <td>MOBY-DICK;</td>\n",
       "    </tr>\n",
       "    <tr>\n",
       "      <th>...</th>\n",
       "      <td>...</td>\n",
       "    </tr>\n",
       "    <tr>\n",
       "      <th>21959</th>\n",
       "      <td>children, only found another orphan.</td>\n",
       "    </tr>\n",
       "    <tr>\n",
       "      <th>21960</th>\n",
       "      <td></td>\n",
       "    </tr>\n",
       "    <tr>\n",
       "      <th>21961</th>\n",
       "      <td></td>\n",
       "    </tr>\n",
       "    <tr>\n",
       "      <th>21962</th>\n",
       "      <td></td>\n",
       "    </tr>\n",
       "    <tr>\n",
       "      <th>21963</th>\n",
       "      <td></td>\n",
       "    </tr>\n",
       "  </tbody>\n",
       "</table>\n",
       "<p>21940 rows × 1 columns</p>\n",
       "</div>"
      ],
      "text/plain": [
       "                                      line_str\n",
       "line_num                                      \n",
       "24                                            \n",
       "25                                            \n",
       "26                                            \n",
       "27                                            \n",
       "28                                  MOBY-DICK;\n",
       "...                                        ...\n",
       "21959     children, only found another orphan.\n",
       "21960                                         \n",
       "21961                                         \n",
       "21962                                         \n",
       "21963                                         \n",
       "\n",
       "[21940 rows x 1 columns]"
      ]
     },
     "execution_count": 32,
     "metadata": {},
     "output_type": "execute_result"
    }
   ],
   "source": [
    "df.loc[start_line+1: end_line-1]"
   ]
  },
  {
   "cell_type": "code",
   "execution_count": null,
   "id": "977a9e44-057a-47e9-a777-bf0978b3b8f9",
   "metadata": {},
   "outputs": [],
   "source": []
  }
 ],
 "metadata": {
  "kernelspec": {
   "display_name": "Python 3 (ipykernel)",
   "language": "python",
   "name": "python3"
  },
  "language_info": {
   "codemirror_mode": {
    "name": "ipython",
    "version": 3
   },
   "file_extension": ".py",
   "mimetype": "text/x-python",
   "name": "python",
   "nbconvert_exporter": "python",
   "pygments_lexer": "ipython3",
   "version": "3.9.1"
  }
 },
 "nbformat": 4,
 "nbformat_minor": 5
}
