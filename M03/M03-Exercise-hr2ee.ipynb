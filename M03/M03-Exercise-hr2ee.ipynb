{
 "cells": [
  {
   "cell_type": "markdown",
   "id": "d437acf8-a501-47b0-90d2-8b44919f39d9",
   "metadata": {},
   "source": [
    "# Mod 3 Excercise\n",
    "\n",
    "Max Ryoo (hr2ee)"
   ]
  },
  {
   "cell_type": "code",
   "execution_count": 1,
   "id": "eb139e29-6c72-42ce-80ab-8b12d7d50d92",
   "metadata": {},
   "outputs": [],
   "source": [
    "import re\n",
    "import math\n",
    "import pandas as pd"
   ]
  },
  {
   "cell_type": "code",
   "execution_count": 2,
   "id": "6589c92c-9056-47e6-800e-c423de23080d",
   "metadata": {},
   "outputs": [],
   "source": [
    "%matplotlib inline"
   ]
  },
  {
   "cell_type": "markdown",
   "id": "42d680af-014d-43f5-b1da-1c4e58cc1146",
   "metadata": {},
   "source": [
    "### Part 1\n",
    "Use the Simple Polynesian alphabet (as found in the Schütz and Manning reading and printed below)"
   ]
  },
  {
   "cell_type": "code",
   "execution_count": 3,
   "id": "a0189676-ee9f-421b-afcd-2edd464fcc69",
   "metadata": {},
   "outputs": [
    {
     "data": {
      "text/plain": [
       "0    p\n",
       "1    t\n",
       "2    k\n",
       "3    a\n",
       "4    i\n",
       "5    u\n",
       "dtype: object"
      ]
     },
     "execution_count": 3,
     "metadata": {},
     "output_type": "execute_result"
    }
   ],
   "source": [
    "letters = pd.Series('p t k a i u'.split())\n",
    "letters"
   ]
  },
  {
   "cell_type": "code",
   "execution_count": 4,
   "id": "c70cd288-1edb-44bb-93bf-e3689fb1a886",
   "metadata": {},
   "outputs": [
    {
     "data": {
      "text/plain": [
       "[0.125, 0.25, 0.125, 0.25, 0.125, 0.125]"
      ]
     },
     "execution_count": 4,
     "metadata": {},
     "output_type": "execute_result"
    }
   ],
   "source": [
    "# weights = pd.Series([1/8,1/4,1/8,1/4,1/8,1/8])\n",
    "weights = [1/8,1/4,1/8,1/4,1/8,1/8]\n",
    "weights"
   ]
  },
  {
   "cell_type": "code",
   "execution_count": 5,
   "id": "8e36ba91-6bda-4199-989e-266ea6ad936a",
   "metadata": {},
   "outputs": [
    {
     "data": {
      "text/html": [
       "<div>\n",
       "<style scoped>\n",
       "    .dataframe tbody tr th:only-of-type {\n",
       "        vertical-align: middle;\n",
       "    }\n",
       "\n",
       "    .dataframe tbody tr th {\n",
       "        vertical-align: top;\n",
       "    }\n",
       "\n",
       "    .dataframe thead th {\n",
       "        text-align: right;\n",
       "    }\n",
       "</style>\n",
       "<table border=\"1\" class=\"dataframe\">\n",
       "  <thead>\n",
       "    <tr style=\"text-align: right;\">\n",
       "      <th></th>\n",
       "      <th>Letter</th>\n",
       "      <th>Probability</th>\n",
       "    </tr>\n",
       "  </thead>\n",
       "  <tbody>\n",
       "    <tr>\n",
       "      <th>0</th>\n",
       "      <td>p</td>\n",
       "      <td>0.125</td>\n",
       "    </tr>\n",
       "    <tr>\n",
       "      <th>1</th>\n",
       "      <td>t</td>\n",
       "      <td>0.250</td>\n",
       "    </tr>\n",
       "    <tr>\n",
       "      <th>2</th>\n",
       "      <td>k</td>\n",
       "      <td>0.125</td>\n",
       "    </tr>\n",
       "    <tr>\n",
       "      <th>3</th>\n",
       "      <td>a</td>\n",
       "      <td>0.250</td>\n",
       "    </tr>\n",
       "    <tr>\n",
       "      <th>4</th>\n",
       "      <td>i</td>\n",
       "      <td>0.125</td>\n",
       "    </tr>\n",
       "    <tr>\n",
       "      <th>5</th>\n",
       "      <td>u</td>\n",
       "      <td>0.125</td>\n",
       "    </tr>\n",
       "  </tbody>\n",
       "</table>\n",
       "</div>"
      ],
      "text/plain": [
       "  Letter  Probability\n",
       "0      p        0.125\n",
       "1      t        0.250\n",
       "2      k        0.125\n",
       "3      a        0.250\n",
       "4      i        0.125\n",
       "5      u        0.125"
      ]
     },
     "execution_count": 5,
     "metadata": {},
     "output_type": "execute_result"
    }
   ],
   "source": [
    "pd.DataFrame({'Letter':letters, 'Probability':weights})"
   ]
  },
  {
   "cell_type": "markdown",
   "id": "648e0a18-0288-4fa2-9f29-339e829917b2",
   "metadata": {},
   "source": [
    "## Part 2\n",
    "Create a text by randomly selected seven letter words based on the weights (separated by spaces)"
   ]
  },
  {
   "cell_type": "code",
   "execution_count": 6,
   "id": "ebafabc0-588f-4780-adf5-8c178307560f",
   "metadata": {},
   "outputs": [
    {
     "name": "stdout",
     "output_type": "stream",
     "text": [
      "pttkptu atiuatp pakptaa ttkuatk paaaauk pukuuua utaipia taautta ktaautt paaputa uaiaaia ttktiap kakiauu tpaptuk aituttt akaataa tutuaia iitaaik aautaui ktuauta kutkttp tkauiia kpkaipu aauktik ptiauaa atittap tutatti uaiapii ttattti attaaat taauiat tikuaiu tkpaipa uttitta ututtkt ttakpaa kitkkti ptatapa taptkpi piktata aaaattp ttpipta kpaitiu atptatt uipptuu ikpaiaa aauaaat utpiitu akkkutt akkukpa upatuka tkikppk puitkkp iatttui attakaa aiataau tiputka aattkkp aptapti iataata itpiiit pipaaap ttuauit aatkuaa pttkppa kiitait uuitatk aakiitp tatpttt pkkaati ttptuta pttiiia iauakui uaukptt auapaat tatitti tiaptka kuataat tkiuaat atuaaup aakiptt iaakpat kkpptkp ttupatt ataakuu tutpipt akttiaa upappta ipapuak pttiapt aptattt katkkki ptttppp atttatt iutiitt tuakapa tpuktau kaaitut apaptpp aikuaaa\n"
     ]
    }
   ],
   "source": [
    "generated_words = []\n",
    "for i in range(100):\n",
    "    word = letters.sample(7, replace=True, weights=weights).str.cat()\n",
    "    generated_words.append(word)\n",
    "print(*generated_words)"
   ]
  },
  {
   "cell_type": "markdown",
   "id": "8f84258f-7f65-4ba5-bd25-787b46f23ab4",
   "metadata": {},
   "source": [
    "### Part 3\n",
    "Using the unigram term frequencies in that reading as weights, write a simple text generator from the Babel library you just created.\n",
    "\n",
    "When you are done, submit your source code to the appropriate Assignment in Collab."
   ]
  },
  {
   "cell_type": "code",
   "execution_count": 7,
   "id": "6c10ff6c-7d18-4c01-92c5-8c775d016ca1",
   "metadata": {},
   "outputs": [],
   "source": [
    "def get_message(m_len = 7, weights=[]):\n",
    "    if len(weights) == 0:\n",
    "        p = 1/letters.shape[0]\n",
    "        weights = [p for i in range(letters.shape[0])]\n",
    "    msg = letters.sample(m_len, replace=True, weights=weights).str.cat()\n",
    "    return msg\n",
    "\n",
    "def print_page(n_pages = 1, weights=[]):\n",
    "    for i in range(n_pages):\n",
    "        for i in range(40):\n",
    "            print(get_message(80, weights))\n",
    "        print()\n",
    "        print('-'*80)\n",
    "        print()"
   ]
  },
  {
   "cell_type": "code",
   "execution_count": 8,
   "id": "4e5f3058-2ac8-40b2-acc3-1c2367da2922",
   "metadata": {},
   "outputs": [
    {
     "name": "stdout",
     "output_type": "stream",
     "text": [
      "paktuatttkaaatktiaukutttupuaktipktptpttatpuuaatpuaiuikapauatpitkippputitpipiakaa\n",
      "tuuuttptttttaktaataiaiapuaaappkuappakaitatakpttkkaautaaakappaattputapattiuiaukak\n",
      "ktitpatauukappttutiaptkaktaaataauitptkapktpiiutktttattaiakukiutaiktppptiatitakia\n",
      "atuapaaituitttiiiakaaiuaiuauikautkiiuattaaauaakttttpappuiaiikkiuatiiitpktikiiaaa\n",
      "pptataktttitppipaatuuapaupppappakitpkaiiappuiitpuitapkuuapiuiiiktpatituakaitiaat\n",
      "tuttkukkaaiuaiiitktkikaikiaipaikiaapaipuaituptiaaitauiataatiuattkattkuatkaptuika\n",
      "tpttuatiikauppauuiktutuuiikutptupaptkitiiapkaaiitakitpaaautitpuptaupkaaaatupppkp\n",
      "auiattaatkttaatauapakauaktkptkakpppptatukaiitauiakpiupaakuittaiptakauipatipatkta\n",
      "itapkuatiuutkaiikaapkiktutkukuaauukaukatupptiitatapuuupaukuuitiaiputiaauatkipttp\n",
      "iiaipapikpattatuutkaaupiatkptutupakpaktituaatppiputtppaitaiatkttkkataktaauititup\n",
      "tatataaaaitaakiukapiaipkptapaakppikiataptkaakpkktautptiaaikakptkptpapakkaittatka\n",
      "utupikuaaittkutaupkpiutatkkakukuaiaitaitukauptttitkkpukkaiauktpaakkukkpuaapuuaki\n",
      "pkptapikpptuuaapipttapappattkauuitupikattatatutakutukttukaiaaakukatttattutaiaipt\n",
      "aatupptkaaupaiktpikaaaipaatautttkputatauattaauttkutiiappiptkktuipattipatiipauiai\n",
      "apattaatpppkauaaaaatttttauitatatkiututpautupaaiuitpkkaaaaakaauupatktttuppakkkktt\n",
      "uttpuauuiipaaaakkatkaakattauuiuaittipuaapaptattkkuutkiiiakpuitktuaiiaaaaapkttuki\n",
      "tikakiauuppktuiktkupkaukuptppiitttatatuatuapatpttpauatkiaiuiktktpakiaiktaatitaku\n",
      "tppupaittiptttakuuaktiiaiktptaiutpitkaikiapaipapatkuatutitkatukuiaattatapapiiaua\n",
      "puutauukktpupaakpaaptpaktakttiatauapptttitkkkauaptuiikptikpktttuaaiikapakpkpauat\n",
      "iaitpaataatukutapaapaukkkautiiapptkutputkpatpputuitpiaiptptaiupipatkipaiakkikiau\n",
      "ipatatpttpttuttpkiuiiatakptptktiukpittaututititkikaututaaaaupttauaaaupkppukkttta\n",
      "atkpaauppipttttuiauiiatiapiaatupputpatkipttttauapkptttpitttiuitaaapaktpkuitiutkt\n",
      "iituaaaiuptpattipuuupptpuiipapkkttpitutatataiittutkkiaattkakutpppktiptaitaaitata\n",
      "ittpaakaaiiakiapipktpipitpatiuktptkuuaitiaapktitutkuaktikttaiiukipputuuutptakata\n",
      "uaatuiiaapkppataatiippatikpatauuupkkptikkutitpittaitiakupitttiuktautkakktikakaap\n",
      "puatatuattutataitpuauuiputaapaatpatkatiptpapkiaktkuuuuptpaauuaauuikuapitpikppuii\n",
      "uauiaaaaapaptatkikptkkikiauaptakkkaaitaiitipiutaiatatakatukpkttttuuputkktkpptipa\n",
      "takktaaaakutatuiuaaattiptuaiktkauttatauaapttaaptpitauttauitupakkaapuuttapaiatkkt\n",
      "puttattkpipatppkpitapauatappptpptikupitiiittkaitutppktatkppitkukttaatpkkikaiuati\n",
      "ittkptpttiitkukaataauaatatukpkkpiapakauiitaptakttpkutuktaapaapiakttaituatptattat\n",
      "aaauiupputitatpttauptikukatitttkaatttatuaaakittauuataatpttakttktauuiaitptatittut\n",
      "uputttaputuktuakaiptiatatpapaaaattptttaukiiapapiuauattauukuukaaapikukpkitutuaakp\n",
      "aupaupupauttkiktktipakaaautatuktpkkptatuptkiptaakukktkuiiikakkuaatupaaatauutkput\n",
      "autttitppuptptaaakpiitapttupuptkaaaiuuktkatautkttkitttpkukkapktuautptpktkputktta\n",
      "utkippaakakaptaaptatuauukktutttatatuktaiuttataputitktattpaktpapuktautauaaiikuttu\n",
      "ptttapupuktaapukaaatakiptttaakkppkapappatuaupiuptuitittitatutttaipttaiputakktaka\n",
      "ktttaaiupuiuattiiauaakitiapiuaaakupktkkpptptuututikttitaatattaupatuptattaitaitpk\n",
      "atttaakaptaitiaattukituaaktpuakuaautiitkaaakapitatttipkuuaikaaauuuktkuakuittakpt\n",
      "atutitpttitttkattttpakutptaautatpakpuutpptttaiiuttauuiataipptikaiauaiuiptiitpttp\n",
      "auuaipuiipitaaaatutittittutppiaaattkkkttatiataptaaukattutukatkuaautkkuttatkuktpt\n",
      "\n",
      "--------------------------------------------------------------------------------\n",
      "\n",
      "kaitatkaitatkkaataiatatpituikipktaaapatkttapttttaukatakktpkuakaktaapittpiapuippi\n",
      "tptaipakppkutaatuaaaatiauukpptpaiaaaiaatatitituaptaatkpitkittatuttakkkakptaituaa\n",
      "tpaatktaktkipiauatpuutitiuataptaapuuuktaattktpauktaiapuputtpaakauitapkaakppituak\n",
      "iaapaaitppapatttuauktkikaaakttuttttkptptaattaiapitpttpittaiuptpaataapktkapukiuik\n",
      "taaiutauakkptukupattaakautpkapkpptiaaautuaippippkitiaappkpakiupuiukupkaauttaptat\n",
      "ttkuaaktkttkitauapiupakkuutipppaaaikatpipputtatiatuuitakitputttkuaaiutaktuaapaaa\n",
      "aiitapakutpttikaiiutttptupkaatukuttktututkiuttaaattppaakaatitpuipakkaaaakitattak\n",
      "akatpkiataatttkattktptitikuittttaaakpappiakkituupuuuatkipuitputakuiptkaaiaitpkut\n",
      "aiitpiuiakkuitkttttappauiaakaktiiiikiaauaiiatattapuuuatakaappuapikpiipktpuaktiia\n",
      "atiktttaktpuiaipaiuaipaukattaptttkkutaktpakuktippppukptaaatapuaiuuaipkatiiaaappi\n",
      "tiuttuiptaaaaiiititkatupaakakikataiatikpkattatataaaitittaktattitkatpaiupaaatatpt\n",
      "utkapttaktuttkpappupuiukpaatkakiuikikatappikaittutuaukkaapatkatatiapkikukpaaatuu\n",
      "puatiutkaptttiaaataptktukttaaaauutitutppatptaaptiataktiptiattattpptutitptipipapa\n",
      "utptiaiptuiiatuaapikpauakutaapitpiupkautktiaiiuaktuatttuitaakitaaipapktukkuaktta\n",
      "ptkpktkttupaaapauktpiaaakktaakutkauuaaiatituuappktkkapiaptaitaatkkipattuiaaataau\n",
      "patiuatitpiauaattauiapkkutaptitutikkapaakuatkaptauataiutaukaatttikputputkpuktkpp\n",
      "aaaatpuaaaaittatauktaitpkaapiutiiiiutiuiiattuttttipptttiktttapauuttktatiaakautkp\n",
      "ipitaukiattkptptutitpkitutuaatuukataiktaapiukkaatiaikkaitikaipaattaptuatiktaaata\n",
      "attttptitpkaaatpppiaiitiktttauttpkakatkaaatkaktkaptpaitaptpptaptkaaatktkapttaakt\n",
      "tkkpkiaapiiautpuaaiutitttiutpakiktiakapptauatiataiiituaiataitpakitatikutiaiktuat\n",
      "aatkiuakautpupkaaptaaukutputipatuitkuttaatuaattpapkaakptapipputptktkaaatuaipikta\n",
      "tiitktutkpppiattatkttaktatkpiaiiuikaaapiuptpaaauiakakukttukaauktppuattattapuiaai\n",
      "aupaukpaaipktattptktpatatattatiataattuattpiaktupiuiakauaakttttaaupkptatttitpaptk\n",
      "tkatatkuupatapaiutaututtiaputptttaktkutaatktiiuitaakaaipituutaktaaataiutkaikutat\n",
      "utiatktpatutiuaaatitatapiktaaukiaiaiittukttakikiapupkttuapiaikapptiakutakppttppa\n",
      "tpkutapattukaauttuiattaititiuatttptaakiatpuaaptauaiipattkkaiaktppptippupkkukkiiu\n",
      "uttattpttkpktatktputtutptutpkuaukaiaikuikuupaitautkaaauuutptatptiupapkaatkakkpkt\n",
      "tkptutaaiattapkaupattiaikpattuaukaapttkuaitupttakttuiiktikatuuutitauataatkaauttt\n",
      "kpiauaapauiakuaakataiauupaitattiuaatkuiptiaitpaauaattaaaapiutuauttputptiitttattt\n",
      "uttpttttttktttktkaaauiaktiapaiaaakaptuattapautaatiaapipktitppuptiauauaatikppaaap\n",
      "pkautapttuatpapktuiatttkattaaktaakpitaaaaituapptkpaipatttpupikttiaapiakiukaktiau\n",
      "apktukuauakauaaaaautaapptuutptatatattitaptaikaaaauatttaukiipaikiaattauiiuakpppat\n",
      "taaiaaktptaiipkauakaaiapapiptutitapkkuakupkipitkuapiaukttatiaaaaiiaattuuutktiauu\n",
      "akituapiitpkptupapuautitkuippipitakaaauituaauktpkaiataippaiatpatpkaiiktaatattakt\n",
      "iipttatttitataattkapuakktatitakatipapauuitptattttptpaptuatkaatattiataatuapakpuui\n",
      "taattiaipttaitptiktpkukpkuiuuatautatpkptpaautatiuutaauattkkpkattipkuakiapataatkt\n",
      "tkkuuaapakkptkkkppapaaaktaautpttauukuptikkaaiattakpuaaauitttttaktuaktkatuatktuaa\n",
      "attitkipiuakpktpkkapaaiiatapiuupkktttapaptpatakpiakuatuptttauiptuaaatpuptpaakata\n",
      "ktttiikaakattkaatppipappkktitptpikutipiatiaipuutttukppippkaktikattuatuakatkiatip\n",
      "akiaipatitakkaaiauptaptttittpiaitkiaupuuiiatkktakaaapuutpaauaauatauatkutkaaikpiu\n",
      "\n",
      "--------------------------------------------------------------------------------\n",
      "\n"
     ]
    }
   ],
   "source": [
    "print_page(2, weights)"
   ]
  }
 ],
 "metadata": {
  "kernelspec": {
   "display_name": "Python 3 (ipykernel)",
   "language": "python",
   "name": "python3"
  },
  "language_info": {
   "codemirror_mode": {
    "name": "ipython",
    "version": 3
   },
   "file_extension": ".py",
   "mimetype": "text/x-python",
   "name": "python",
   "nbconvert_exporter": "python",
   "pygments_lexer": "ipython3",
   "version": "3.9.1"
  }
 },
 "nbformat": 4,
 "nbformat_minor": 5
}
